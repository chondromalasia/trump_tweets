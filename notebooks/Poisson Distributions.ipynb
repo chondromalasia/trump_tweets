{
 "cells": [
  {
   "cell_type": "markdown",
   "metadata": {},
   "source": [
    "# Poisson distribution Shenanigans\n",
    "\n",
    "https://towardsdatascience.com/an-illustrated-guide-to-the-poisson-regression-model-50cccba15958"
   ]
  },
  {
   "cell_type": "code",
   "execution_count": 2,
   "metadata": {},
   "outputs": [],
   "source": [
    "import sys\n",
    "import datetime\n",
    "\n",
    "import pandas as pd\n",
    "import numpy as np\n",
    "from patsy import dmatrices\n",
    "import statsmodels.api as sm\n",
    "from scipy.stats import poisson\n",
    "\n",
    "sys.path.append(\"..\")\n",
    "\n",
    "import src.utils as utils"
   ]
  },
  {
   "cell_type": "code",
   "execution_count": 3,
   "metadata": {},
   "outputs": [],
   "source": [
    "#!{sys.executable} -m pip install patsy statsmodels"
   ]
  },
  {
   "cell_type": "code",
   "execution_count": 4,
   "metadata": {},
   "outputs": [],
   "source": [
    "# import tweets\n",
    "df = utils.tweets('realDonaldTrump')"
   ]
  },
  {
   "cell_type": "code",
   "execution_count": 5,
   "metadata": {},
   "outputs": [],
   "source": [
    "# get daily counts\n",
    "by_day = df.groupby(df.index.date).count()"
   ]
  },
  {
   "cell_type": "code",
   "execution_count": 6,
   "metadata": {},
   "outputs": [],
   "source": [
    "# get last year of data\n",
    "year_date = by_day.iloc[len(by_day)-1].name - datetime.timedelta(days=365)\n",
    "by_day_year = by_day[year_date:]\n"
   ]
  },
  {
   "cell_type": "markdown",
   "metadata": {},
   "source": [
    "## Create Training Data\n",
    "\n",
    "We'll do it this way for now, but in the future, it will be a different split"
   ]
  },
  {
   "cell_type": "code",
   "execution_count": 7,
   "metadata": {},
   "outputs": [
    {
     "name": "stdout",
     "output_type": "stream",
     "text": [
      "Training data set length=283\n",
      "Testing data set length=83\n"
     ]
    }
   ],
   "source": [
    "mask = np.random.rand(len(by_day_year)) < 0.8\n",
    "df_train = by_day_year[mask]\n",
    "df_test = by_day_year[~mask]\n",
    "print('Training data set length='+str(len(df_train)))\n",
    "print('Testing data set length='+str(len(df_test)))"
   ]
  },
  {
   "cell_type": "markdown",
   "metadata": {},
   "source": [
    "## Super fucking basic poisson\n",
    "\n",
    "tiers: \n",
    "```\n",
    "prior_counts = {\n",
    "  \"149\" : sum(by_day[\"sum_7\"] <= 149),\n",
    "  \"150-159\" : sum((by_day[\"sum_7\"] >= 150) & (by_day[\"sum_7\"] < 160)),\n",
    "  \"160-169\" : sum((by_day[\"sum_7\"] >= 160) & (by_day[\"sum_7\"] < 170)),\n",
    "  \"170-179\" : sum((by_day[\"sum_7\"] >= 170) & (by_day[\"sum_7\"] < 180)),\n",
    "  \"180-189\" : sum((by_day[\"sum_7\"] >= 180) & (by_day[\"sum_7\"] < 190)),\n",
    "  \"190-199\" : sum((by_day[\"sum_7\"] >= 190) & (by_day[\"sum_7\"] < 200)),\n",
    "  \"200-209\" : sum((by_day[\"sum_7\"] >= 200) & (by_day[\"sum_7\"] < 210)),\n",
    "  \"210-219\" : sum((by_day[\"sum_7\"] >= 210) & (by_day[\"sum_7\"] < 219)),\n",
    "  \"220\" : sum(by_day[\"sum_7\"] >= 220)\n",
    "}\n",
    "```\n"
   ]
  },
  {
   "cell_type": "code",
   "execution_count": 8,
   "metadata": {},
   "outputs": [
    {
     "data": {
      "text/plain": [
       "{'149': 0.14862694630635806,\n",
       " '150-159': 1.2235170569628409,\n",
       " '160-169': 5.897339054899048,\n",
       " '170-179': 15.925442913761156,\n",
       " '180-189': 24.86613284747075,\n",
       " '190-199': 23.08287360188668,\n",
       " '200-209': 13.058592051315799,\n",
       " '210-219': 4.603609819183085,\n",
       " '220': 1.243205861520269}"
      ]
     },
     "execution_count": 8,
     "metadata": {},
     "output_type": "execute_result"
    }
   ],
   "source": [
    "def weekly_likelihoods(data, lower, buckets=9, gap=10):\n",
    "    mu = data.mean().round()\n",
    "    week = int(mu * 7)\n",
    "    rv = poisson(week)\n",
    "    \n",
    "    weekly_dict = dict()\n",
    "    \n",
    "    for i in range(buckets):\n",
    "        if i == 0:\n",
    "            weekly_dict[str(lower)] = rv.cdf(lower) * 100\n",
    "        elif i == buckets - 1:\n",
    "            lower_bound = (lower + i * gap) - (gap - 1)\n",
    "            weekly_dict[str(lower_bound)] = (1 - rv.cdf(lower_bound)) * 100\n",
    "        else:\n",
    "            lower_bound = (lower + i * gap) - (gap - 1)\n",
    "            upper_bound = (lower + i * gap)\n",
    "            \n",
    "            label = f\"{lower_bound}-{upper_bound}\"\n",
    "            \n",
    "            weekly_dict[label] = (rv.cdf(upper_bound) - rv.cdf(lower_bound)) * 100\n",
    "            \n",
    "    return weekly_dict\n",
    "    \n",
    "weekly_likelihoods(by_day_year[\"ID\"], 149)"
   ]
  },
  {
   "cell_type": "code",
   "execution_count": 9,
   "metadata": {},
   "outputs": [
    {
     "name": "stdout",
     "output_type": "stream",
     "text": [
      "189\n"
     ]
    }
   ],
   "source": [
    "mu = int(df_train[\"ID\"].mean().round())\n",
    "\n",
    "week = mu * 7\n",
    "print(week)"
   ]
  },
  {
   "cell_type": "code",
   "execution_count": 10,
   "metadata": {},
   "outputs": [],
   "source": [
    "rv = poisson(week)"
   ]
  },
  {
   "cell_type": "code",
   "execution_count": 11,
   "metadata": {},
   "outputs": [],
   "source": [
    "weekly_likelihoods = {\n",
    "    \"149<\":rv.cdf(149),\n",
    "    \"150-159\":rv.cdf(159) - rv.cdf(149),\n",
    "    \"160-169\":rv.cdf(169) - rv.cdf(159),\n",
    "    \"170-179\":rv.cdf(179) - rv.cdf(169),\n",
    "    \"180-189\":rv.cdf(189) - rv.cdf(179),\n",
    "    \"190-199\":rv.cdf(199) - rv.cdf(189),\n",
    "    \"200-209\":rv.cdf(209) - rv.cdf(199),\n",
    "    \"210-219\":rv.cdf(219) - rv.cdf(209),\n",
    "    \"220>\":1 - rv.cdf(220)\n",
    "}"
   ]
  },
  {
   "cell_type": "code",
   "execution_count": 12,
   "metadata": {},
   "outputs": [
    {
     "data": {
      "text/plain": [
       "{'149<': 0.0014862694630635807,\n",
       " '150-159': 0.012662458017805606,\n",
       " '160-169': 0.061984838402712135,\n",
       " '170-179': 0.17063247381916818,\n",
       " '180-189': 0.27256674122834484,\n",
       " '190-199': 0.25968206179322206,\n",
       " '200-209': 0.15118344912923365,\n",
       " '210-219': 0.05496378983777939,\n",
       " '220>': 0.01243205861520269}"
      ]
     },
     "execution_count": 12,
     "metadata": {},
     "output_type": "execute_result"
    }
   ],
   "source": [
    "weekly_likelihoods"
   ]
  },
  {
   "cell_type": "code",
   "execution_count": 13,
   "metadata": {},
   "outputs": [
    {
     "data": {
      "text/plain": [
       "0.0014862694630635807"
      ]
     },
     "execution_count": 13,
     "metadata": {},
     "output_type": "execute_result"
    }
   ],
   "source": [
    "rv.cdf(149)"
   ]
  },
  {
   "cell_type": "code",
   "execution_count": 14,
   "metadata": {},
   "outputs": [
    {
     "data": {
      "text/plain": [
       "0.012662458017805606"
      ]
     },
     "execution_count": 14,
     "metadata": {},
     "output_type": "execute_result"
    }
   ],
   "source": [
    "rv.cdf(159) - rv.cdf(149)"
   ]
  },
  {
   "cell_type": "markdown",
   "metadata": {},
   "source": [
    "## And for a given day\n",
    "\n",
    "Currently there is a day and 3 hours left and he already has 192 tweets. Let's assume he tweets for 20 hours out of the day, so 3 hours is 0.15, let's round up to 0.2"
   ]
  },
  {
   "cell_type": "code",
   "execution_count": 15,
   "metadata": {},
   "outputs": [
    {
     "data": {
      "text/plain": [
       "{'169': 83.3,\n",
       " '170-179': 10.9,\n",
       " '180-189': 2.7,\n",
       " '190-199': 0.4,\n",
       " '200-209': 0.0,\n",
       " '210-219': 0.0,\n",
       " '220-229': 0.0,\n",
       " '230-239': 0.0,\n",
       " '240': 0.0}"
      ]
     },
     "execution_count": 15,
     "metadata": {},
     "output_type": "execute_result"
    }
   ],
   "source": [
    "\n",
    "days_left = 5.2\n",
    "tweets_so_far = 16\n",
    "\n",
    "def difference_dist(rv, upper, lower, tweets_so_far):\n",
    "    adj_upper = upper - tweets_so_far\n",
    "    adj_lower = lower - tweets_so_far\n",
    "    \n",
    "    return rv.cdf(adj_upper) - rv.cdf(adj_lower)\n",
    "\n",
    "def remaining_odds(data, days_left, tweets_so_far, lower, buckets=9, gap=10):\n",
    "    likelihoods = dict()\n",
    "    \n",
    "    mu = data.mean()\n",
    "    \n",
    "    adj_mu = int(round(mu * days_left))\n",
    "    \n",
    "    rv = poisson(adj_mu)\n",
    "    \n",
    "    \n",
    "    for i in range(buckets):\n",
    "        if i == 0:\n",
    "            likelihoods[str(lower)] = rv.cdf(lower - tweets_so_far)\n",
    "        elif i == buckets - 1:\n",
    "            lower_bound = (lower + i * gap) - (gap - 1)\n",
    "            likelihoods[str(lower_bound)] = (1 - rv.cdf(lower_bound - tweets_so_far))\n",
    "            pass\n",
    "        else:\n",
    "            lower_bound = (lower + i * gap) - (gap - 1)\n",
    "            upper_bound = (lower + i * gap)\n",
    "            \n",
    "            label = f\"{lower_bound}-{upper_bound}\"\n",
    "            \n",
    "            likelihoods[label] = difference_dist(rv,\n",
    "                                                 upper_bound,\n",
    "                                                 lower_bound,\n",
    "                                                 tweets_so_far)\n",
    "            \n",
    "    # format dict\n",
    "    for thing in likelihoods:\n",
    "        likelihoods[thing] = float(f\"{likelihoods[thing]:.3f}\")*100\n",
    "            \n",
    "            \n",
    "    \n",
    "    return likelihoods\n",
    "    \n",
    "remaining_odds(by_day_year[\"ID\"], days_left, tweets_so_far, 169)"
   ]
  },
  {
   "cell_type": "markdown",
   "metadata": {},
   "source": [
    "## Actual weekly"
   ]
  },
  {
   "cell_type": "code",
   "execution_count": 16,
   "metadata": {},
   "outputs": [
    {
     "data": {
      "text/plain": [
       "{'169': 5.0,\n",
       " '170-179': 12.6,\n",
       " '180-189': 22.900000000000002,\n",
       " '190-199': 24.7,\n",
       " '200-209': 16.3,\n",
       " '210-219': 6.7,\n",
       " '220-229': 1.7000000000000002,\n",
       " '230-239': 0.3,\n",
       " '240': 0.0}"
      ]
     },
     "execution_count": 16,
     "metadata": {},
     "output_type": "execute_result"
    }
   ],
   "source": [
    "days_left = 7\n",
    "tweets_so_far = 0\n",
    "bucket = 169\n",
    "\n",
    "remaining_odds(by_day_year[\"ID\"], days_left, tweets_so_far, bucket)"
   ]
  },
  {
   "cell_type": "markdown",
   "metadata": {},
   "source": [
    "## And now POTUS"
   ]
  },
  {
   "cell_type": "code",
   "execution_count": 17,
   "metadata": {},
   "outputs": [],
   "source": [
    "# import tweets\n",
    "df = utils.tweets('potus')\n",
    "by_day = df.groupby(df.index.date).count()"
   ]
  },
  {
   "cell_type": "code",
   "execution_count": 18,
   "metadata": {},
   "outputs": [
    {
     "data": {
      "text/plain": [
       "{'64': 18.9,\n",
       " '65-69': 16.7,\n",
       " '70-74': 18.5,\n",
       " '75-79': 14.7,\n",
       " '80-84': 8.5,\n",
       " '85-89': 3.5999999999999996,\n",
       " '90-94': 1.2,\n",
       " '95-99': 0.3,\n",
       " '100': 0.1}"
      ]
     },
     "execution_count": 18,
     "metadata": {},
     "output_type": "execute_result"
    }
   ],
   "source": [
    "days_left = 7\n",
    "tweets_so_far = 0\n",
    "lower = 64\n",
    "gap = 5\n",
    "\n",
    "remaining_odds(by_day[\"ID\"], days_left, tweets_so_far, lower, gap=gap)"
   ]
  },
  {
   "cell_type": "code",
   "execution_count": 19,
   "metadata": {},
   "outputs": [
    {
     "data": {
      "text/plain": [
       "{'64': 0.0,\n",
       " '65-69': 0.0,\n",
       " '70-74': 0.0,\n",
       " '75-79': 0.0,\n",
       " '80-84': 0.0,\n",
       " '85-89': 0.0,\n",
       " '90-94': 40.6,\n",
       " '95-99': 31.900000000000002,\n",
       " '100': 0.1}"
      ]
     },
     "execution_count": 19,
     "metadata": {},
     "output_type": "execute_result"
    }
   ],
   "source": [
    "days_left = 0.2\n",
    "tweets_so_far = 93\n",
    "\n",
    "remaining_odds(by_day[\"ID\"], days_left, tweets_so_far, lower, gap=gap)"
   ]
  },
  {
   "cell_type": "markdown",
   "metadata": {},
   "source": [
    "# And White House"
   ]
  },
  {
   "cell_type": "code",
   "execution_count": 20,
   "metadata": {},
   "outputs": [],
   "source": [
    "# import tweets\n",
    "df = utils.tweets('whitehouse')\n",
    "by_day = df.groupby(df.index.date).count()"
   ]
  },
  {
   "cell_type": "markdown",
   "metadata": {},
   "source": [
    "### Weekly"
   ]
  },
  {
   "cell_type": "code",
   "execution_count": 21,
   "metadata": {},
   "outputs": [
    {
     "data": {
      "text/plain": [
       "{'199': 70.89999999999999,\n",
       " '200-209': 16.3,\n",
       " '210-219': 6.7,\n",
       " '220-229': 1.7000000000000002,\n",
       " '230-239': 0.3,\n",
       " '240-249': 0.0,\n",
       " '250-259': 0.0,\n",
       " '260-269': 0.0,\n",
       " '270': 0.0}"
      ]
     },
     "execution_count": 21,
     "metadata": {},
     "output_type": "execute_result"
    }
   ],
   "source": [
    "days_left = 7\n",
    "tweets_so_far = 0\n",
    "lower = 199\n",
    "gap = 10\n",
    "\n",
    "remaining_odds(by_day[\"ID\"], days_left, tweets_so_far, lower, gap=gap)"
   ]
  },
  {
   "cell_type": "code",
   "execution_count": 22,
   "metadata": {},
   "outputs": [
    {
     "data": {
      "text/plain": [
       "{'199': 58.099999999999994,\n",
       " '200-209': 22.1,\n",
       " '210-219': 10.6,\n",
       " '220-229': 3.0,\n",
       " '230-239': 0.5,\n",
       " '240-249': 0.1,\n",
       " '250-259': 0.0,\n",
       " '260-269': 0.0,\n",
       " '270': 0.0}"
      ]
     },
     "execution_count": 22,
     "metadata": {},
     "output_type": "execute_result"
    }
   ],
   "source": [
    "days_left = 6.2\n",
    "tweets_so_far = 27\n",
    "\n",
    "remaining_odds(by_day[\"ID\"], days_left, tweets_so_far, lower, gap=gap)"
   ]
  }
 ],
 "metadata": {
  "kernelspec": {
   "display_name": "Python (trump_tweets)",
   "language": "python",
   "name": "trump_tweets"
  },
  "language_info": {
   "codemirror_mode": {
    "name": "ipython",
    "version": 3
   },
   "file_extension": ".py",
   "mimetype": "text/x-python",
   "name": "python",
   "nbconvert_exporter": "python",
   "pygments_lexer": "ipython3",
   "version": "3.6.9"
  }
 },
 "nbformat": 4,
 "nbformat_minor": 4
}
