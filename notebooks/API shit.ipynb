{
 "cells": [
  {
   "cell_type": "markdown",
   "metadata": {},
   "source": [
    "# Connecting to the Predictit 'API'\n",
    "\n",
    "https://predictit.freshdesk.com/support/solutions/articles/12000001878-does-predictit-make-market-data-available-via-an-api-"
   ]
  },
  {
   "cell_type": "code",
   "execution_count": 1,
   "metadata": {},
   "outputs": [],
   "source": [
    "import requests\n",
    "import sys\n",
    "import configparser\n",
    "import datetime\n",
    "import pytz\n",
    "\n",
    "import pandas as pd\n",
    "import tweepy\n",
    "\n",
    "from bs4 import BeautifulSoup\n",
    "\n",
    "sys.path.append(\"..\")\n",
    "from src.tweetdownloader import TweetDownloader\n",
    "import src.utils as utils\n",
    "import src.poisson as poisson"
   ]
  },
  {
   "cell_type": "code",
   "execution_count": 2,
   "metadata": {},
   "outputs": [
    {
     "data": {
      "text/plain": [
       "'https://www.predictit.org/api/marketdata/markets/6689/'"
      ]
     },
     "execution_count": 2,
     "metadata": {},
     "output_type": "execute_result"
    }
   ],
   "source": [
    "# we'll start with rdt\n",
    "market_number = '6689'\n",
    "url = f\"https://www.predictit.org/api/marketdata/markets/{market_number}/\"\n",
    "url"
   ]
  },
  {
   "cell_type": "code",
   "execution_count": 3,
   "metadata": {},
   "outputs": [],
   "source": [
    "response = requests.get(url)"
   ]
  },
  {
   "cell_type": "code",
   "execution_count": 4,
   "metadata": {},
   "outputs": [],
   "source": [
    "response_data = response.json()"
   ]
  },
  {
   "cell_type": "code",
   "execution_count": 5,
   "metadata": {},
   "outputs": [
    {
     "data": {
      "text/plain": [
       "{'id': 6689,\n",
       " 'name': 'How many tweets will @realDonaldTrump post from noon May 6 to 13?',\n",
       " 'shortName': '@realDonaldTrump tweets 5/6 to 5/13?',\n",
       " 'image': 'https://az620379.vo.msecnd.net/images/Markets/36231f71-30ba-47c1-8f5d-c7481e014c11.jpg',\n",
       " 'url': 'https://www.predictit.org/markets/detail/6689/How-many-tweets-will-@realDonaldTrump-post-from-noon-May-6-to-13',\n",
       " 'contracts': [{'id': 22581,\n",
       "   'dateEnd': '2020-05-13T12:00:00',\n",
       "   'image': 'https://az620379.vo.msecnd.net/images/Contracts/small_36231f71-30ba-47c1-8f5d-c7481e014c11.jpg',\n",
       "   'name': '240 or more',\n",
       "   'shortName': '240+',\n",
       "   'status': 'Open',\n",
       "   'lastTradePrice': 0.47,\n",
       "   'bestBuyYesCost': 0.49,\n",
       "   'bestBuyNoCost': 0.53,\n",
       "   'bestSellYesCost': 0.47,\n",
       "   'bestSellNoCost': 0.51,\n",
       "   'lastClosePrice': 0.4,\n",
       "   'displayOrder': 8},\n",
       "  {'id': 22586,\n",
       "   'dateEnd': '2020-05-13T12:00:00',\n",
       "   'image': 'https://az620379.vo.msecnd.net/images/Contracts/small_36231f71-30ba-47c1-8f5d-c7481e014c11.jpg',\n",
       "   'name': '220 - 229',\n",
       "   'shortName': '220 - 229',\n",
       "   'status': 'Open',\n",
       "   'lastTradePrice': 0.19,\n",
       "   'bestBuyYesCost': 0.19,\n",
       "   'bestBuyNoCost': 0.83,\n",
       "   'bestSellYesCost': 0.17,\n",
       "   'bestSellNoCost': 0.81,\n",
       "   'lastClosePrice': 0.19,\n",
       "   'displayOrder': 3},\n",
       "  {'id': 22589,\n",
       "   'dateEnd': '2020-05-13T12:00:00',\n",
       "   'image': 'https://az620379.vo.msecnd.net/images/Contracts/small_36231f71-30ba-47c1-8f5d-c7481e014c11.jpg',\n",
       "   'name': '230 - 239',\n",
       "   'shortName': '230 - 239',\n",
       "   'status': 'Open',\n",
       "   'lastTradePrice': 0.19,\n",
       "   'bestBuyYesCost': 0.19,\n",
       "   'bestBuyNoCost': 0.82,\n",
       "   'bestSellYesCost': 0.18,\n",
       "   'bestSellNoCost': 0.81,\n",
       "   'lastClosePrice': 0.19,\n",
       "   'displayOrder': 6},\n",
       "  {'id': 22588,\n",
       "   'dateEnd': '2020-05-13T12:00:00',\n",
       "   'image': 'https://az620379.vo.msecnd.net/images/Contracts/small_36231f71-30ba-47c1-8f5d-c7481e014c11.jpg',\n",
       "   'name': '210 - 219',\n",
       "   'shortName': '210 - 219',\n",
       "   'status': 'Open',\n",
       "   'lastTradePrice': 0.12,\n",
       "   'bestBuyYesCost': 0.12,\n",
       "   'bestBuyNoCost': 0.91,\n",
       "   'bestSellYesCost': 0.09,\n",
       "   'bestSellNoCost': 0.88,\n",
       "   'lastClosePrice': 0.11,\n",
       "   'displayOrder': 7},\n",
       "  {'id': 22585,\n",
       "   'dateEnd': '2020-05-13T12:00:00',\n",
       "   'image': 'https://az620379.vo.msecnd.net/images/Contracts/small_36231f71-30ba-47c1-8f5d-c7481e014c11.jpg',\n",
       "   'name': '200 - 209',\n",
       "   'shortName': '200 - 209',\n",
       "   'status': 'Open',\n",
       "   'lastTradePrice': 0.08,\n",
       "   'bestBuyYesCost': 0.08,\n",
       "   'bestBuyNoCost': 0.95,\n",
       "   'bestSellYesCost': 0.05,\n",
       "   'bestSellNoCost': 0.92,\n",
       "   'lastClosePrice': 0.07,\n",
       "   'displayOrder': 2},\n",
       "  {'id': 22583,\n",
       "   'dateEnd': '2020-05-13T12:00:00',\n",
       "   'image': 'https://az620379.vo.msecnd.net/images/Contracts/small_36231f71-30ba-47c1-8f5d-c7481e014c11.jpg',\n",
       "   'name': '190 - 199',\n",
       "   'shortName': '190 - 199',\n",
       "   'status': 'Open',\n",
       "   'lastTradePrice': 0.04,\n",
       "   'bestBuyYesCost': 0.04,\n",
       "   'bestBuyNoCost': 0.98,\n",
       "   'bestSellYesCost': 0.02,\n",
       "   'bestSellNoCost': 0.96,\n",
       "   'lastClosePrice': 0.03,\n",
       "   'displayOrder': 5},\n",
       "  {'id': 22582,\n",
       "   'dateEnd': '2020-05-13T12:00:00',\n",
       "   'image': 'https://az620379.vo.msecnd.net/images/Contracts/small_36231f71-30ba-47c1-8f5d-c7481e014c11.jpg',\n",
       "   'name': '180 - 189',\n",
       "   'shortName': '180 - 189',\n",
       "   'status': 'Open',\n",
       "   'lastTradePrice': 0.01,\n",
       "   'bestBuyYesCost': 0.01,\n",
       "   'bestBuyNoCost': None,\n",
       "   'bestSellYesCost': None,\n",
       "   'bestSellNoCost': 0.99,\n",
       "   'lastClosePrice': 0.01,\n",
       "   'displayOrder': 1},\n",
       "  {'id': 22584,\n",
       "   'dateEnd': '2020-05-13T12:00:00',\n",
       "   'image': 'https://az620379.vo.msecnd.net/images/Contracts/small_36231f71-30ba-47c1-8f5d-c7481e014c11.jpg',\n",
       "   'name': '170 - 179',\n",
       "   'shortName': '170 - 179',\n",
       "   'status': 'Open',\n",
       "   'lastTradePrice': 0.01,\n",
       "   'bestBuyYesCost': 0.01,\n",
       "   'bestBuyNoCost': None,\n",
       "   'bestSellYesCost': None,\n",
       "   'bestSellNoCost': 0.99,\n",
       "   'lastClosePrice': 0.01,\n",
       "   'displayOrder': 4},\n",
       "  {'id': 22587,\n",
       "   'dateEnd': '2020-05-13T12:00:00',\n",
       "   'image': 'https://az620379.vo.msecnd.net/images/Contracts/small_36231f71-30ba-47c1-8f5d-c7481e014c11.jpg',\n",
       "   'name': '169 or fewer',\n",
       "   'shortName': '169 or fewer',\n",
       "   'status': 'Open',\n",
       "   'lastTradePrice': 0.01,\n",
       "   'bestBuyYesCost': 0.01,\n",
       "   'bestBuyNoCost': None,\n",
       "   'bestSellYesCost': None,\n",
       "   'bestSellNoCost': 0.99,\n",
       "   'lastClosePrice': 0.01,\n",
       "   'displayOrder': 0}],\n",
       " 'timeStamp': '2020-05-11T06:36:55.2193049',\n",
       " 'status': 'Open'}"
      ]
     },
     "execution_count": 5,
     "metadata": {},
     "output_type": "execute_result"
    }
   ],
   "source": [
    "response_data"
   ]
  },
  {
   "cell_type": "markdown",
   "metadata": {},
   "source": [
    "## Construct buckets with their costs"
   ]
  },
  {
   "cell_type": "code",
   "execution_count": 6,
   "metadata": {},
   "outputs": [],
   "source": [
    "title = response_data[\"contracts\"][0][\"name\"]"
   ]
  },
  {
   "cell_type": "code",
   "execution_count": 7,
   "metadata": {},
   "outputs": [],
   "source": [
    "def num_from_title(title): return [int(i) for i in title.split() if i.isdigit()]"
   ]
  },
  {
   "cell_type": "code",
   "execution_count": 8,
   "metadata": {},
   "outputs": [],
   "source": [
    "lower = min([num_from_title(i[\"name\"])[0] for i in response_data[\"contracts\"]])"
   ]
  },
  {
   "cell_type": "code",
   "execution_count": 9,
   "metadata": {},
   "outputs": [],
   "source": [
    "title = response_data[\"contracts\"][1][\"name\"]\n",
    "gaps = num_from_title(title)\n",
    "gap = gaps[1] - gaps[0] + 1"
   ]
  },
  {
   "cell_type": "markdown",
   "metadata": {},
   "source": [
    "## get the number of tweets since the start\n",
    "\n",
    "yeah we're gonig to need to change this"
   ]
  },
  {
   "cell_type": "code",
   "execution_count": 10,
   "metadata": {},
   "outputs": [],
   "source": [
    "end_date = pd.to_datetime(response_data[\"contracts\"][0][\"dateEnd\"])\n",
    "end_date = end_date.tz_localize(\"US/Eastern\")\n"
   ]
  },
  {
   "cell_type": "code",
   "execution_count": 11,
   "metadata": {},
   "outputs": [
    {
     "data": {
      "text/plain": [
       "Timestamp('2020-05-06 12:00:00-0400', tz='US/Eastern')"
      ]
     },
     "execution_count": 11,
     "metadata": {},
     "output_type": "execute_result"
    }
   ],
   "source": [
    "start_date = end_date - datetime.timedelta(days=7)\n",
    "start_date"
   ]
  },
  {
   "cell_type": "code",
   "execution_count": 12,
   "metadata": {},
   "outputs": [],
   "source": [
    "time_left = end_date - datetime.datetime.now(tz=pytz.timezone('US/Eastern'))"
   ]
  },
  {
   "cell_type": "code",
   "execution_count": 13,
   "metadata": {},
   "outputs": [
    {
     "data": {
      "text/plain": [
       "datetime.datetime(2020, 5, 11, 6, 36, 55, 566040, tzinfo=<DstTzInfo 'US/Eastern' EDT-1 day, 20:00:00 DST>)"
      ]
     },
     "execution_count": 13,
     "metadata": {},
     "output_type": "execute_result"
    }
   ],
   "source": [
    "datetime.datetime.now(tz=pytz.timezone('US/Eastern'))"
   ]
  },
  {
   "cell_type": "code",
   "execution_count": 14,
   "metadata": {},
   "outputs": [
    {
     "data": {
      "text/plain": [
       "2"
      ]
     },
     "execution_count": 14,
     "metadata": {},
     "output_type": "execute_result"
    }
   ],
   "source": [
    "time_left.days"
   ]
  },
  {
   "cell_type": "code",
   "execution_count": 15,
   "metadata": {},
   "outputs": [],
   "source": [
    "days_left = time_left.days + round((time_left.seconds / 2880) - (time_left.days * 2) / 24) * .01"
   ]
  },
  {
   "cell_type": "code",
   "execution_count": 16,
   "metadata": {},
   "outputs": [
    {
     "name": "stderr",
     "output_type": "stream",
     "text": [
      "INFO:root:API created\n",
      "INFO:root:Liberating realDonaldTrump\n",
      "INFO:root:\tPage: 0\n",
      "INFO:root:Found: 1 duplicate rows\n",
      "INFO:root:Writing ../data/realDonaldTrump.csv\n"
     ]
    }
   ],
   "source": [
    "rdt_tweets = TweetDownloader(to_load=\"realDonaldTrump\")"
   ]
  },
  {
   "cell_type": "code",
   "execution_count": 17,
   "metadata": {},
   "outputs": [],
   "source": [
    "tweets = rdt_tweets.dataset"
   ]
  },
  {
   "cell_type": "code",
   "execution_count": 18,
   "metadata": {},
   "outputs": [],
   "source": [
    "tweets_so_far = len(tweets[:start_date])"
   ]
  },
  {
   "cell_type": "markdown",
   "metadata": {},
   "source": [
    "### TODO from here\n",
    "\n",
    "Now we need to:\n",
    "\n",
    "* [ ] make a bucket dit for the prices\n",
    "* [ ] make kelly calcs"
   ]
  },
  {
   "cell_type": "code",
   "execution_count": 19,
   "metadata": {},
   "outputs": [],
   "source": [
    "def process_name(name):\n",
    "    numbers = num_from_title(name)\n",
    "    if 'fewer' in name:\n",
    "        return str(numbers[0])\n",
    "    elif 'more' in name:\n",
    "        return str(numbers[0])\n",
    "    else:\n",
    "        return str(numbers[0]) + '-' + str(numbers[1])"
   ]
  },
  {
   "cell_type": "code",
   "execution_count": 20,
   "metadata": {},
   "outputs": [],
   "source": [
    "prices = dict()\n",
    "for contract in response_data[\"contracts\"]:\n",
    "    prices[process_name(contract[\"name\"])] = contract[\"bestBuyYesCost\"]"
   ]
  },
  {
   "cell_type": "code",
   "execution_count": 21,
   "metadata": {},
   "outputs": [
    {
     "data": {
      "text/plain": [
       "{'240': 0.49,\n",
       " '220-229': 0.19,\n",
       " '230-239': 0.19,\n",
       " '210-219': 0.12,\n",
       " '200-209': 0.08,\n",
       " '190-199': 0.04,\n",
       " '180-189': 0.01,\n",
       " '170-179': 0.01,\n",
       " '169': 0.01}"
      ]
     },
     "execution_count": 21,
     "metadata": {},
     "output_type": "execute_result"
    }
   ],
   "source": [
    "prices"
   ]
  },
  {
   "cell_type": "code",
   "execution_count": 30,
   "metadata": {},
   "outputs": [],
   "source": [
    "def setup_data(name, days=90):\n",
    "    df = utils.tweets(name)\n",
    "    by_day = df.groupby(df.index.date).count()\n",
    "    print(by_day)\n",
    "    cutoff_date = by_day.iloc[len(by_day)-1].name - datetime.timedelta(days=days)\n",
    "    return by_day[cutoff_date:]"
   ]
  },
  {
   "cell_type": "code",
   "execution_count": 31,
   "metadata": {},
   "outputs": [
    {
     "name": "stdout",
     "output_type": "stream",
     "text": [
      "             ID\n",
      "2017-01-01    6\n",
      "2017-01-02    7\n",
      "2017-01-03   10\n",
      "2017-01-04   10\n",
      "2017-01-05    6\n",
      "...         ...\n",
      "2020-05-07   10\n",
      "2020-05-08   12\n",
      "2020-05-09   22\n",
      "2020-05-10  109\n",
      "2020-05-11   21\n",
      "\n",
      "[1214 rows x 1 columns]\n",
      "29.032967032967033\n",
      "2.07\n",
      "60.098241758241755\n",
      "60.0\n"
     ]
    }
   ],
   "source": [
    "odds = poisson.basic_poisson(setup_data('realDonaldTrump')[\"ID\"], days_left, tweets_so_far, lower=lower, gap=gap)"
   ]
  },
  {
   "cell_type": "code",
   "execution_count": 24,
   "metadata": {},
   "outputs": [
    {
     "data": {
      "text/plain": [
       "{'169': 0.0,\n",
       " '170-179': 0.0,\n",
       " '180-189': 0.0,\n",
       " '190-199': 0.0,\n",
       " '200-209': 0.0,\n",
       " '210-219': 0.8999999999999999,\n",
       " '220-229': 15.299999999999999,\n",
       " '230-239': 43.1,\n",
       " '240': 32.0}"
      ]
     },
     "execution_count": 24,
     "metadata": {},
     "output_type": "execute_result"
    }
   ],
   "source": [
    "odds"
   ]
  },
  {
   "cell_type": "code",
   "execution_count": 25,
   "metadata": {},
   "outputs": [
    {
     "data": {
      "text/plain": [
       "177"
      ]
     },
     "execution_count": 25,
     "metadata": {},
     "output_type": "execute_result"
    }
   ],
   "source": [
    "tweets_so_far"
   ]
  },
  {
   "cell_type": "code",
   "execution_count": 26,
   "metadata": {},
   "outputs": [],
   "source": [
    "def kelly(odds, prices):\n",
    "    df = pd.DataFrame([odds,prices])\n",
    "    df = df.T\n",
    "    df.columns = [\"odds\", \"prices\"]\n",
    "    df[\"odds\"] = df[\"odds\"] * .01\n",
    "    df[\"win\"] = 1 - df[\"prices\"]\n",
    "    df[\"b\"] = df[\"win\"] / df[\"prices\"]\n",
    "    df[\"q\"] = 1 - df[\"odds\"]\n",
    "    df[\"f\"] = df[\"odds\"] - df[\"q\"] / df[\"b\"]\n",
    "    return df\n",
    "    \n",
    "t = kelly(odds, prices)"
   ]
  },
  {
   "cell_type": "code",
   "execution_count": 27,
   "metadata": {},
   "outputs": [
    {
     "data": {
      "text/html": [
       "<div>\n",
       "<style scoped>\n",
       "    .dataframe tbody tr th:only-of-type {\n",
       "        vertical-align: middle;\n",
       "    }\n",
       "\n",
       "    .dataframe tbody tr th {\n",
       "        vertical-align: top;\n",
       "    }\n",
       "\n",
       "    .dataframe thead th {\n",
       "        text-align: right;\n",
       "    }\n",
       "</style>\n",
       "<table border=\"1\" class=\"dataframe\">\n",
       "  <thead>\n",
       "    <tr style=\"text-align: right;\">\n",
       "      <th></th>\n",
       "      <th>odds</th>\n",
       "      <th>prices</th>\n",
       "      <th>win</th>\n",
       "      <th>b</th>\n",
       "      <th>q</th>\n",
       "      <th>f</th>\n",
       "    </tr>\n",
       "  </thead>\n",
       "  <tbody>\n",
       "    <tr>\n",
       "      <th>169</th>\n",
       "      <td>0.000</td>\n",
       "      <td>0.01</td>\n",
       "      <td>0.99</td>\n",
       "      <td>99.000000</td>\n",
       "      <td>1.000</td>\n",
       "      <td>-0.010101</td>\n",
       "    </tr>\n",
       "    <tr>\n",
       "      <th>170-179</th>\n",
       "      <td>0.000</td>\n",
       "      <td>0.01</td>\n",
       "      <td>0.99</td>\n",
       "      <td>99.000000</td>\n",
       "      <td>1.000</td>\n",
       "      <td>-0.010101</td>\n",
       "    </tr>\n",
       "    <tr>\n",
       "      <th>180-189</th>\n",
       "      <td>0.000</td>\n",
       "      <td>0.01</td>\n",
       "      <td>0.99</td>\n",
       "      <td>99.000000</td>\n",
       "      <td>1.000</td>\n",
       "      <td>-0.010101</td>\n",
       "    </tr>\n",
       "    <tr>\n",
       "      <th>190-199</th>\n",
       "      <td>0.000</td>\n",
       "      <td>0.04</td>\n",
       "      <td>0.96</td>\n",
       "      <td>24.000000</td>\n",
       "      <td>1.000</td>\n",
       "      <td>-0.041667</td>\n",
       "    </tr>\n",
       "    <tr>\n",
       "      <th>200-209</th>\n",
       "      <td>0.000</td>\n",
       "      <td>0.08</td>\n",
       "      <td>0.92</td>\n",
       "      <td>11.500000</td>\n",
       "      <td>1.000</td>\n",
       "      <td>-0.086957</td>\n",
       "    </tr>\n",
       "    <tr>\n",
       "      <th>210-219</th>\n",
       "      <td>0.009</td>\n",
       "      <td>0.12</td>\n",
       "      <td>0.88</td>\n",
       "      <td>7.333333</td>\n",
       "      <td>0.991</td>\n",
       "      <td>-0.126136</td>\n",
       "    </tr>\n",
       "    <tr>\n",
       "      <th>220-229</th>\n",
       "      <td>0.153</td>\n",
       "      <td>0.19</td>\n",
       "      <td>0.81</td>\n",
       "      <td>4.263158</td>\n",
       "      <td>0.847</td>\n",
       "      <td>-0.045679</td>\n",
       "    </tr>\n",
       "    <tr>\n",
       "      <th>230-239</th>\n",
       "      <td>0.431</td>\n",
       "      <td>0.19</td>\n",
       "      <td>0.81</td>\n",
       "      <td>4.263158</td>\n",
       "      <td>0.569</td>\n",
       "      <td>0.297531</td>\n",
       "    </tr>\n",
       "    <tr>\n",
       "      <th>240</th>\n",
       "      <td>0.320</td>\n",
       "      <td>0.49</td>\n",
       "      <td>0.51</td>\n",
       "      <td>1.040816</td>\n",
       "      <td>0.680</td>\n",
       "      <td>-0.333333</td>\n",
       "    </tr>\n",
       "  </tbody>\n",
       "</table>\n",
       "</div>"
      ],
      "text/plain": [
       "          odds  prices   win          b      q         f\n",
       "169      0.000    0.01  0.99  99.000000  1.000 -0.010101\n",
       "170-179  0.000    0.01  0.99  99.000000  1.000 -0.010101\n",
       "180-189  0.000    0.01  0.99  99.000000  1.000 -0.010101\n",
       "190-199  0.000    0.04  0.96  24.000000  1.000 -0.041667\n",
       "200-209  0.000    0.08  0.92  11.500000  1.000 -0.086957\n",
       "210-219  0.009    0.12  0.88   7.333333  0.991 -0.126136\n",
       "220-229  0.153    0.19  0.81   4.263158  0.847 -0.045679\n",
       "230-239  0.431    0.19  0.81   4.263158  0.569  0.297531\n",
       "240      0.320    0.49  0.51   1.040816  0.680 -0.333333"
      ]
     },
     "execution_count": 27,
     "metadata": {},
     "output_type": "execute_result"
    }
   ],
   "source": [
    "t"
   ]
  },
  {
   "cell_type": "markdown",
   "metadata": {},
   "source": [
    "## Potus"
   ]
  },
  {
   "cell_type": "code",
   "execution_count": 28,
   "metadata": {},
   "outputs": [],
   "source": [
    "# download tweets before this, add this to pipeline\n",
    "\n",
    "# iterate through this?\n",
    "market_numbers = {\"whitehouse\":6692,\n",
    "                 \"potus\":6696,\n",
    "                 \"realDonaldTrump\":6689}"
   ]
  },
  {
   "cell_type": "code",
   "execution_count": 29,
   "metadata": {},
   "outputs": [
    {
     "ename": "SyntaxError",
     "evalue": "invalid syntax (<ipython-input-29-f6bb4bc96c88>, line 1)",
     "output_type": "error",
     "traceback": [
      "\u001b[0;36m  File \u001b[0;32m\"<ipython-input-29-f6bb4bc96c88>\"\u001b[0;36m, line \u001b[0;32m1\u001b[0m\n\u001b[0;31m    def response_data{}\u001b[0m\n\u001b[0m                     ^\u001b[0m\n\u001b[0;31mSyntaxError\u001b[0m\u001b[0;31m:\u001b[0m invalid syntax\n"
     ]
    }
   ],
   "source": [
    "def response_data{}"
   ]
  }
 ],
 "metadata": {
  "kernelspec": {
   "display_name": "Python (trump_tweets)",
   "language": "python",
   "name": "trump_tweets"
  },
  "language_info": {
   "codemirror_mode": {
    "name": "ipython",
    "version": 3
   },
   "file_extension": ".py",
   "mimetype": "text/x-python",
   "name": "python",
   "nbconvert_exporter": "python",
   "pygments_lexer": "ipython3",
   "version": "3.6.9"
  }
 },
 "nbformat": 4,
 "nbformat_minor": 4
}
