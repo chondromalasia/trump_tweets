{
 "cells": [
  {
   "cell_type": "markdown",
   "metadata": {},
   "source": [
    "# EDA of the tweets of whitehouse\n",
    "\n",
    "So the summary that I have currently is that \n",
    "\n",
    "* you really need to use as much recent data as possible, even the last year of data is turrible.\n",
    "* Need to adjust for hours\n",
    "* Need to adjust for days of the week"
   ]
  },
  {
   "cell_type": "code",
   "execution_count": 14,
   "metadata": {},
   "outputs": [],
   "source": [
    "import json\n",
    "from pathlib import Path\n",
    "import sys\n",
    "from collections import Counter\n",
    "import datetime\n",
    "\n",
    "import pandas as pd\n",
    "import matplotlib.pyplot as plt\n",
    "from scipy.stats import wilcoxon, skew, skewnorm, describe, gengamma, rv_continuous, gamma, gaussian_kde, poisson\n",
    "\n",
    "sys.path.append(\"..\")\n",
    "\n",
    "import src.utils as utils\n"
   ]
  },
  {
   "cell_type": "markdown",
   "metadata": {},
   "source": [
    "## Read them in and turn into DataFrame\n",
    "\n",
    "Deprecated, this was from tweepy I think and didn't contain retweets."
   ]
  },
  {
   "cell_type": "markdown",
   "metadata": {},
   "source": [
    "## CSV\n",
    "\n",
    "From here: http://trumptwitterarchive.com/"
   ]
  },
  {
   "cell_type": "code",
   "execution_count": 2,
   "metadata": {},
   "outputs": [
    {
     "data": {
      "text/plain": [
       "True"
      ]
     },
     "execution_count": 2,
     "metadata": {},
     "output_type": "execute_result"
    }
   ],
   "source": [
    "tweet_path = Path(\"../data/whitehouse.csv\")\n",
    "tweet_path.exists()"
   ]
  },
  {
   "cell_type": "code",
   "execution_count": 3,
   "metadata": {},
   "outputs": [
    {
     "data": {
      "text/html": [
       "<div>\n",
       "<style scoped>\n",
       "    .dataframe tbody tr th:only-of-type {\n",
       "        vertical-align: middle;\n",
       "    }\n",
       "\n",
       "    .dataframe tbody tr th {\n",
       "        vertical-align: top;\n",
       "    }\n",
       "\n",
       "    .dataframe thead th {\n",
       "        text-align: right;\n",
       "    }\n",
       "</style>\n",
       "<table border=\"1\" class=\"dataframe\">\n",
       "  <thead>\n",
       "    <tr style=\"text-align: right;\">\n",
       "      <th></th>\n",
       "      <th>ID</th>\n",
       "    </tr>\n",
       "    <tr>\n",
       "      <th>created_at</th>\n",
       "      <th></th>\n",
       "    </tr>\n",
       "  </thead>\n",
       "  <tbody>\n",
       "    <tr>\n",
       "      <th>2020-05-06 04:11:09+00:00</th>\n",
       "      <td>1257885589023731714</td>\n",
       "    </tr>\n",
       "    <tr>\n",
       "      <th>2020-05-06 03:01:12+00:00</th>\n",
       "      <td>1257867985001369600</td>\n",
       "    </tr>\n",
       "    <tr>\n",
       "      <th>2020-05-06 02:45:11+00:00</th>\n",
       "      <td>1257863956649172992</td>\n",
       "    </tr>\n",
       "    <tr>\n",
       "      <th>2020-05-06 02:31:14+00:00</th>\n",
       "      <td>1257860442707247106</td>\n",
       "    </tr>\n",
       "    <tr>\n",
       "      <th>2020-05-06 02:01:00+00:00</th>\n",
       "      <td>1257852836668420097</td>\n",
       "    </tr>\n",
       "  </tbody>\n",
       "</table>\n",
       "</div>"
      ],
      "text/plain": [
       "                                            ID\n",
       "created_at                                    \n",
       "2020-05-06 04:11:09+00:00  1257885589023731714\n",
       "2020-05-06 03:01:12+00:00  1257867985001369600\n",
       "2020-05-06 02:45:11+00:00  1257863956649172992\n",
       "2020-05-06 02:31:14+00:00  1257860442707247106\n",
       "2020-05-06 02:01:00+00:00  1257852836668420097"
      ]
     },
     "execution_count": 3,
     "metadata": {},
     "output_type": "execute_result"
    }
   ],
   "source": [
    "df = pd.read_csv(tweet_path)\n",
    "\n",
    "\n",
    "\n",
    "df.index = pd.to_datetime(df['created_at'])\n",
    "\n",
    "df = pd.DataFrame(df['id'])\n",
    "\n",
    "df.columns = ['ID']\n",
    "\n",
    "df.head()"
   ]
  },
  {
   "cell_type": "markdown",
   "metadata": {},
   "source": [
    "## Quantitative description\n",
    "\n",
    "### Per day, just in general"
   ]
  },
  {
   "cell_type": "code",
   "execution_count": 4,
   "metadata": {},
   "outputs": [
    {
     "data": {
      "text/plain": [
       "27.395604395604394"
      ]
     },
     "execution_count": 4,
     "metadata": {},
     "output_type": "execute_result"
    }
   ],
   "source": [
    "by_day = df.groupby(df.index.date).count()\n",
    "by_day[\"ID\"].mean()"
   ]
  },
  {
   "cell_type": "code",
   "execution_count": 5,
   "metadata": {},
   "outputs": [
    {
     "data": {
      "text/plain": [
       "10.64151108826929"
      ]
     },
     "execution_count": 5,
     "metadata": {},
     "output_type": "execute_result"
    }
   ],
   "source": [
    "by_day[\"ID\"].std()"
   ]
  },
  {
   "cell_type": "code",
   "execution_count": 6,
   "metadata": {},
   "outputs": [],
   "source": [
    "daily_count = pd.DataFrame.from_dict(Counter(by_day[\"ID\"]), orient='index', columns=['count']).sort_index()"
   ]
  },
  {
   "cell_type": "code",
   "execution_count": 7,
   "metadata": {},
   "outputs": [
    {
     "data": {
      "text/plain": [
       "<matplotlib.axes._subplots.AxesSubplot at 0x7fbcf94ba470>"
      ]
     },
     "execution_count": 7,
     "metadata": {},
     "output_type": "execute_result"
    },
    {
     "data": {
      "image/png": "[encoded data removed]",
      "text/plain": [
       "<Figure size 432x288 with 1 Axes>"
      ]
     },
     "metadata": {
      "needs_background": "light"
     },
     "output_type": "display_data"
    }
   ],
   "source": [
    "daily_count.plot()"
   ]
  },
  {
   "cell_type": "code",
   "execution_count": 8,
   "metadata": {},
   "outputs": [],
   "source": [
    "daily_count['probability'] = daily_count['count'] / daily_count['count'].sum()"
   ]
  },
  {
   "cell_type": "code",
   "execution_count": 9,
   "metadata": {},
   "outputs": [
    {
     "data": {
      "text/html": [
       "<div>\n",
       "<style scoped>\n",
       "    .dataframe tbody tr th:only-of-type {\n",
       "        vertical-align: middle;\n",
       "    }\n",
       "\n",
       "    .dataframe tbody tr th {\n",
       "        vertical-align: top;\n",
       "    }\n",
       "\n",
       "    .dataframe thead th {\n",
       "        text-align: right;\n",
       "    }\n",
       "</style>\n",
       "<table border=\"1\" class=\"dataframe\">\n",
       "  <thead>\n",
       "    <tr style=\"text-align: right;\">\n",
       "      <th></th>\n",
       "      <th>count</th>\n",
       "      <th>probability</th>\n",
       "    </tr>\n",
       "  </thead>\n",
       "  <tbody>\n",
       "    <tr>\n",
       "      <th>6</th>\n",
       "      <td>1</td>\n",
       "      <td>0.010989</td>\n",
       "    </tr>\n",
       "    <tr>\n",
       "      <th>8</th>\n",
       "      <td>1</td>\n",
       "      <td>0.010989</td>\n",
       "    </tr>\n",
       "    <tr>\n",
       "      <th>9</th>\n",
       "      <td>3</td>\n",
       "      <td>0.032967</td>\n",
       "    </tr>\n",
       "    <tr>\n",
       "      <th>10</th>\n",
       "      <td>1</td>\n",
       "      <td>0.010989</td>\n",
       "    </tr>\n",
       "    <tr>\n",
       "      <th>11</th>\n",
       "      <td>1</td>\n",
       "      <td>0.010989</td>\n",
       "    </tr>\n",
       "  </tbody>\n",
       "</table>\n",
       "</div>"
      ],
      "text/plain": [
       "    count  probability\n",
       "6       1     0.010989\n",
       "8       1     0.010989\n",
       "9       3     0.032967\n",
       "10      1     0.010989\n",
       "11      1     0.010989"
      ]
     },
     "execution_count": 9,
     "metadata": {},
     "output_type": "execute_result"
    }
   ],
   "source": [
    "daily_count.head()"
   ]
  },
  {
   "cell_type": "markdown",
   "metadata": {},
   "source": [
    "### By Day of Week\n",
    "\n",
    "Monday = 0"
   ]
  },
  {
   "cell_type": "code",
   "execution_count": 10,
   "metadata": {},
   "outputs": [
    {
     "data": {
      "text/plain": [
       "<matplotlib.axes._subplots.AxesSubplot at 0x7fbcf6d4f080>"
      ]
     },
     "execution_count": 10,
     "metadata": {},
     "output_type": "execute_result"
    },
    {
     "data": {
      "image/png": "[encoded data removed]",
      "text/plain": [
       "<Figure size 432x288 with 1 Axes>"
      ]
     },
     "metadata": {
      "needs_background": "light"
     },
     "output_type": "display_data"
    }
   ],
   "source": [
    "day_of_week = df.groupby(df.index.dayofweek).count()\n",
    "\n",
    "day_of_week.plot()"
   ]
  },
  {
   "cell_type": "markdown",
   "metadata": {},
   "source": [
    "## By Hour\n",
    "\n",
    "Honestly, he probably does sleep for 4 hours a night"
   ]
  },
  {
   "cell_type": "code",
   "execution_count": 12,
   "metadata": {},
   "outputs": [
    {
     "data": {
      "text/plain": [
       "<matplotlib.axes._subplots.AxesSubplot at 0x7fbcf6ca3d30>"
      ]
     },
     "execution_count": 12,
     "metadata": {},
     "output_type": "execute_result"
    },
    {
     "data": {
      "image/png": "[encoded data removed]",
      "text/plain": [
       "<Figure size 432x288 with 1 Axes>"
      ]
     },
     "metadata": {
      "needs_background": "light"
     },
     "output_type": "display_data"
    }
   ],
   "source": [
    "by_hour = df.groupby(df.index.hour).count()\n",
    "by_hour.plot()"
   ]
  },
  {
   "cell_type": "markdown",
   "metadata": {},
   "source": [
    "## A priori weekly odds\n",
    "\n",
    "tl;dr we just see what the odds are of each of the buckets at the start of each week"
   ]
  },
  {
   "cell_type": "code",
   "execution_count": 13,
   "metadata": {},
   "outputs": [],
   "source": [
    "by_day[\"sum_7\"] = by_day.rolling(window=7).sum()"
   ]
  },
  {
   "cell_type": "code",
   "execution_count": 16,
   "metadata": {},
   "outputs": [
    {
     "data": {
      "text/plain": [
       "{'199': 37,\n",
       " '200-209': 8,\n",
       " '210-219': 7,\n",
       " '220-229': 8,\n",
       " '230-239': 10,\n",
       " '240-249': 4,\n",
       " '250-259': 4,\n",
       " '260-269': 5,\n",
       " '270': 2}"
      ]
     },
     "execution_count": 16,
     "metadata": {},
     "output_type": "execute_result"
    }
   ],
   "source": [
    "\n",
    "        \n",
    "utils.prior_bucket_maker(by_day[\"sum_7\"], 199, gap=10)"
   ]
  },
  {
   "cell_type": "markdown",
   "metadata": {},
   "source": [
    "## That <149 number is awfully suss\n",
    "\n",
    "Let's investigate"
   ]
  },
  {
   "cell_type": "code",
   "execution_count": 17,
   "metadata": {},
   "outputs": [
    {
     "data": {
      "text/html": [
       "<div>\n",
       "<style scoped>\n",
       "    .dataframe tbody tr th:only-of-type {\n",
       "        vertical-align: middle;\n",
       "    }\n",
       "\n",
       "    .dataframe tbody tr th {\n",
       "        vertical-align: top;\n",
       "    }\n",
       "\n",
       "    .dataframe thead th {\n",
       "        text-align: right;\n",
       "    }\n",
       "</style>\n",
       "<table border=\"1\" class=\"dataframe\">\n",
       "  <thead>\n",
       "    <tr style=\"text-align: right;\">\n",
       "      <th></th>\n",
       "      <th>ID</th>\n",
       "      <th>sum_7</th>\n",
       "    </tr>\n",
       "  </thead>\n",
       "  <tbody>\n",
       "    <tr>\n",
       "      <th>2020</th>\n",
       "      <td>27</td>\n",
       "      <td>27</td>\n",
       "    </tr>\n",
       "  </tbody>\n",
       "</table>\n",
       "</div>"
      ],
      "text/plain": [
       "      ID  sum_7\n",
       "2020  27     27"
      ]
     },
     "execution_count": 17,
     "metadata": {},
     "output_type": "execute_result"
    }
   ],
   "source": [
    "#df.groupby(df.index.hour).count()\n",
    "weekly_lt_149 = by_day[by_day[\"sum_7\"] <= 149]\n",
    "weekly_lt_149.index = pd.to_datetime(weekly_lt_149.index)\n",
    "\n",
    "weekly_lt_149.groupby(weekly_lt_149.index.year).count()"
   ]
  },
  {
   "cell_type": "code",
   "execution_count": 18,
   "metadata": {},
   "outputs": [],
   "source": [
    "bday = by_day.drop(['sum_7'], axis=1)"
   ]
  },
  {
   "cell_type": "code",
   "execution_count": 19,
   "metadata": {},
   "outputs": [
    {
     "data": {
      "text/html": [
       "<div>\n",
       "<style scoped>\n",
       "    .dataframe tbody tr th:only-of-type {\n",
       "        vertical-align: middle;\n",
       "    }\n",
       "\n",
       "    .dataframe tbody tr th {\n",
       "        vertical-align: top;\n",
       "    }\n",
       "\n",
       "    .dataframe thead th {\n",
       "        text-align: right;\n",
       "    }\n",
       "</style>\n",
       "<table border=\"1\" class=\"dataframe\">\n",
       "  <thead>\n",
       "    <tr style=\"text-align: right;\">\n",
       "      <th></th>\n",
       "      <th></th>\n",
       "      <th>ID</th>\n",
       "    </tr>\n",
       "  </thead>\n",
       "  <tbody>\n",
       "    <tr>\n",
       "      <th rowspan=\"4\" valign=\"top\">2020</th>\n",
       "      <th>2</th>\n",
       "      <td>443</td>\n",
       "    </tr>\n",
       "    <tr>\n",
       "      <th>3</th>\n",
       "      <td>907</td>\n",
       "    </tr>\n",
       "    <tr>\n",
       "      <th>4</th>\n",
       "      <td>973</td>\n",
       "    </tr>\n",
       "    <tr>\n",
       "      <th>5</th>\n",
       "      <td>170</td>\n",
       "    </tr>\n",
       "  </tbody>\n",
       "</table>\n",
       "</div>"
      ],
      "text/plain": [
       "         ID\n",
       "2020 2  443\n",
       "     3  907\n",
       "     4  973\n",
       "     5  170"
      ]
     },
     "execution_count": 19,
     "metadata": {},
     "output_type": "execute_result"
    }
   ],
   "source": [
    "# GB=DF.groupby([(DF.index.year),(DF.index.month)]).sum()\n",
    "bday.index = pd.to_datetime(bday.index)\n",
    "bmonth = bday.groupby([(bday.index.year), (bday.index.month)]).sum()\n",
    "bmonth"
   ]
  },
  {
   "cell_type": "code",
   "execution_count": 20,
   "metadata": {},
   "outputs": [
    {
     "data": {
      "text/plain": [
       "<matplotlib.axes._subplots.AxesSubplot at 0x7fbcf6c79588>"
      ]
     },
     "execution_count": 20,
     "metadata": {},
     "output_type": "execute_result"
    },
    {
     "data": {
      "image/png": "[encoded data removed]",
      "text/plain": [
       "<Figure size 432x288 with 1 Axes>"
      ]
     },
     "metadata": {
      "needs_background": "light"
     },
     "output_type": "display_data"
    }
   ],
   "source": [
    "bmonth.plot.bar()"
   ]
  },
  {
   "cell_type": "markdown",
   "metadata": {},
   "source": [
    "### Using the last year of data\n",
    "\n",
    "Yeah clearly we're drawingc from a different distribution since May-July of last year, so let's just use the last year of data as our prior"
   ]
  },
  {
   "cell_type": "code",
   "execution_count": 21,
   "metadata": {},
   "outputs": [],
   "source": [
    "df_s = df[:df.iloc[0].name - datetime.timedelta(days=365)]"
   ]
  },
  {
   "cell_type": "code",
   "execution_count": 25,
   "metadata": {},
   "outputs": [
    {
     "data": {
      "text/plain": [
       "27.215846994535518"
      ]
     },
     "execution_count": 25,
     "metadata": {},
     "output_type": "execute_result"
    }
   ],
   "source": [
    "by_day = df_s.groupby(df_s.index.date).count()\n",
    "by_day[\"ID\"].mean()"
   ]
  },
  {
   "cell_type": "code",
   "execution_count": 26,
   "metadata": {},
   "outputs": [
    {
     "data": {
      "text/plain": [
       "17.73595899114083"
      ]
     },
     "execution_count": 26,
     "metadata": {},
     "output_type": "execute_result"
    }
   ],
   "source": [
    "by_day[\"ID\"].std()"
   ]
  },
  {
   "cell_type": "code",
   "execution_count": 27,
   "metadata": {},
   "outputs": [],
   "source": [
    "daily_count = pd.DataFrame.from_dict(Counter(by_day[\"ID\"]), orient='index', columns=['count']).sort_index()"
   ]
  },
  {
   "cell_type": "code",
   "execution_count": 28,
   "metadata": {},
   "outputs": [
    {
     "data": {
      "text/plain": [
       "<matplotlib.axes._subplots.AxesSubplot at 0x7f462c0dae48>"
      ]
     },
     "execution_count": 28,
     "metadata": {},
     "output_type": "execute_result"
    },
    {
     "data": {
      "image/png": "[encoded data removed]",
      "text/plain": [
       "<Figure size 432x288 with 1 Axes>"
      ]
     },
     "metadata": {
      "needs_background": "light"
     },
     "output_type": "display_data"
    }
   ],
   "source": [
    "daily_count.plot()"
   ]
  },
  {
   "cell_type": "code",
   "execution_count": 29,
   "metadata": {},
   "outputs": [],
   "source": [
    "daily_count['probability'] = daily_count['count'] / daily_count['count'].sum()"
   ]
  },
  {
   "cell_type": "code",
   "execution_count": 30,
   "metadata": {},
   "outputs": [
    {
     "data": {
      "text/plain": [
       "<matplotlib.axes._subplots.AxesSubplot at 0x7f462b8e15f8>"
      ]
     },
     "execution_count": 30,
     "metadata": {},
     "output_type": "execute_result"
    },
    {
     "data": {
      "image/png": "[encoded data removed]",
      "text/plain": [
       "<Figure size 432x288 with 1 Axes>"
      ]
     },
     "metadata": {
      "needs_background": "light"
     },
     "output_type": "display_data"
    }
   ],
   "source": [
    "day_of_week = df_s.groupby(df_s.index.dayofweek).count()\n",
    "\n",
    "day_of_week.plot()"
   ]
  },
  {
   "cell_type": "code",
   "execution_count": 31,
   "metadata": {},
   "outputs": [
    {
     "data": {
      "text/plain": [
       "<matplotlib.axes._subplots.AxesSubplot at 0x7f462b85c8d0>"
      ]
     },
     "execution_count": 31,
     "metadata": {},
     "output_type": "execute_result"
    },
    {
     "data": {
      "image/png": "[encoded data removed]",
      "text/plain": [
       "<Figure size 432x288 with 1 Axes>"
      ]
     },
     "metadata": {
      "needs_background": "light"
     },
     "output_type": "display_data"
    }
   ],
   "source": [
    "by_hour = df_s.groupby(df_s.index.hour).count()\n",
    "by_hour.plot.bar()"
   ]
  },
  {
   "cell_type": "code",
   "execution_count": 32,
   "metadata": {},
   "outputs": [],
   "source": [
    "by_day[\"sum_7\"] = by_day.rolling(window=7).sum()"
   ]
  },
  {
   "cell_type": "code",
   "execution_count": 33,
   "metadata": {},
   "outputs": [],
   "source": [
    "prior_counts = {\n",
    "  \"149\" : sum(by_day[\"sum_7\"] <= 149),\n",
    "  \"150-159\" : sum((by_day[\"sum_7\"] >= 150) & (by_day[\"sum_7\"] < 160)),\n",
    "  \"160-169\" : sum((by_day[\"sum_7\"] >= 160) & (by_day[\"sum_7\"] < 170)),\n",
    "  \"170-179\" : sum((by_day[\"sum_7\"] >= 170) & (by_day[\"sum_7\"] < 180)),\n",
    "  \"180-189\" : sum((by_day[\"sum_7\"] >= 180) & (by_day[\"sum_7\"] < 190)),\n",
    "  \"190-199\" : sum((by_day[\"sum_7\"] >= 190) & (by_day[\"sum_7\"] < 200)),\n",
    "  \"200-209\" : sum((by_day[\"sum_7\"] >= 200) & (by_day[\"sum_7\"] < 210)),\n",
    "  \"210-219\" : sum((by_day[\"sum_7\"] >= 210) & (by_day[\"sum_7\"] < 219)),\n",
    "  \"220\" : sum(by_day[\"sum_7\"] >= 220)\n",
    "}\n"
   ]
  },
  {
   "cell_type": "code",
   "execution_count": 34,
   "metadata": {},
   "outputs": [],
   "source": [
    "weeklies = pd.DataFrame.from_dict(prior_counts, orient='index', columns=[\"Counts\"])"
   ]
  },
  {
   "cell_type": "code",
   "execution_count": 35,
   "metadata": {},
   "outputs": [
    {
     "data": {
      "text/plain": [
       "149        0.268156\n",
       "150-159    0.078212\n",
       "160-169    0.050279\n",
       "170-179    0.067039\n",
       "180-189    0.086592\n",
       "190-199    0.050279\n",
       "200-209    0.081006\n",
       "210-219    0.044693\n",
       "220        0.273743\n",
       "Name: Counts, dtype: float64"
      ]
     },
     "execution_count": 35,
     "metadata": {},
     "output_type": "execute_result"
    }
   ],
   "source": [
    "weeklies[\"Counts\"] / weeklies[\"Counts\"].sum()"
   ]
  },
  {
   "cell_type": "markdown",
   "metadata": {},
   "source": [
    "### Same distribution\n",
    "\n",
    "Is the past month the same distribution as the previous 90 days?\n",
    "\n",
    "`df_s = df[:df.iloc[0].name - datetime.timedelta(days=365)]`"
   ]
  },
  {
   "cell_type": "code",
   "execution_count": 37,
   "metadata": {},
   "outputs": [],
   "source": [
    "by_day_year = by_day[by_day.iloc[0].name - datetime.timedelta(days=365):]"
   ]
  },
  {
   "cell_type": "code",
   "execution_count": 38,
   "metadata": {},
   "outputs": [
    {
     "data": {
      "text/plain": [
       "DescribeResult(nobs=366, minmax=(2, 144), mean=27.215846994535518, variance=314.56424133542924, skewness=1.8300564835968227, kurtosis=6.594014303660439)"
      ]
     },
     "execution_count": 38,
     "metadata": {},
     "output_type": "execute_result"
    }
   ],
   "source": [
    "describe(by_day_year[\"ID\"])"
   ]
  },
  {
   "cell_type": "code",
   "execution_count": 39,
   "metadata": {},
   "outputs": [],
   "source": [
    "skewness = skew(by_day_year[\"ID\"])"
   ]
  },
  {
   "cell_type": "code",
   "execution_count": 40,
   "metadata": {},
   "outputs": [],
   "source": [
    "y_max = max(by_day_year[\"ID\"])\n",
    "y_max = 48\n",
    "num = len(by_day_year[\"ID\"])"
   ]
  },
  {
   "cell_type": "code",
   "execution_count": 41,
   "metadata": {},
   "outputs": [],
   "source": [
    "\n",
    "random = skewnorm.rvs(a = skewness*-1, loc=75, size=num)\n",
    "random = random - min(random)\n",
    "random = random / max(random)\n",
    "random = random * y_max"
   ]
  },
  {
   "cell_type": "code",
   "execution_count": 42,
   "metadata": {},
   "outputs": [
    {
     "data": {
      "text/plain": [
       "9358.0"
      ]
     },
     "execution_count": 42,
     "metadata": {},
     "output_type": "execute_result"
    }
   ],
   "source": [
    "random.round().sum()"
   ]
  },
  {
   "cell_type": "code",
   "execution_count": 43,
   "metadata": {},
   "outputs": [
    {
     "data": {
      "text/plain": [
       "9961"
      ]
     },
     "execution_count": 43,
     "metadata": {},
     "output_type": "execute_result"
    }
   ],
   "source": [
    "by_day_year[\"ID\"].sum()"
   ]
  },
  {
   "cell_type": "code",
   "execution_count": 44,
   "metadata": {},
   "outputs": [
    {
     "data": {
      "text/plain": [
       "Counter({27.0: 21,\n",
       "         22.0: 16,\n",
       "         20.0: 16,\n",
       "         24.0: 23,\n",
       "         32.0: 19,\n",
       "         25.0: 16,\n",
       "         41.0: 5,\n",
       "         23.0: 16,\n",
       "         29.0: 17,\n",
       "         17.0: 13,\n",
       "         31.0: 13,\n",
       "         34.0: 9,\n",
       "         26.0: 19,\n",
       "         28.0: 12,\n",
       "         19.0: 11,\n",
       "         38.0: 8,\n",
       "         21.0: 10,\n",
       "         35.0: 9,\n",
       "         30.0: 22,\n",
       "         36.0: 9,\n",
       "         13.0: 5,\n",
       "         43.0: 2,\n",
       "         18.0: 11,\n",
       "         9.0: 4,\n",
       "         15.0: 6,\n",
       "         14.0: 7,\n",
       "         39.0: 7,\n",
       "         42.0: 1,\n",
       "         37.0: 5,\n",
       "         8.0: 2,\n",
       "         10.0: 5,\n",
       "         33.0: 10,\n",
       "         5.0: 3,\n",
       "         3.0: 1,\n",
       "         40.0: 1,\n",
       "         6.0: 2,\n",
       "         47.0: 1,\n",
       "         48.0: 1,\n",
       "         11.0: 2,\n",
       "         0.0: 1,\n",
       "         7.0: 1,\n",
       "         4.0: 1,\n",
       "         16.0: 2,\n",
       "         12.0: 1})"
      ]
     },
     "execution_count": 44,
     "metadata": {},
     "output_type": "execute_result"
    }
   ],
   "source": [
    "Counter(random.round())"
   ]
  },
  {
   "cell_type": "markdown",
   "metadata": {},
   "source": [
    "The generalized gamma function has non-zero skew and kurtosis, but you'll have a little work to do to figure out what parameters to use to specify the distribution to get a particular mean, variance, skew and kurtosis. Here's some code to get you started.\n",
    "\n",
    "```\n",
    "import scipy.stats\n",
    "import matplotlib.pyplot as plt\n",
    "distribution = scipy.stats.norm(loc=100,scale=5)\n",
    "sample = distribution.rvs(size=10000)\n",
    "plt.hist(sample)\n",
    "plt.show()\n",
    "print distribution.stats('mvsk')\n",
    "```\n",
    "\n",
    "This displays a histogram of a 10,000 element sample from a normal distribution with mean 100 and variance 25, and prints the distribution's statistics:\n",
    "\n",
    "`(array(100.0), array(25.0), array(0.0), array(0.0))`\n",
    "\n",
    "Replacing the normal distribution with the generalized gamma distribution,\n",
    "\n",
    "`distribution = scipy.stats.gengamma(100, 70, loc=50, scale=10)`\n",
    "\n",
    "you get the statistics `[mean, variance, skew, kurtosis] (array(60.67925117494595), array(0.00023388203873597746), array(-0.09588807605341435), array(-0.028177799805207737)).`\n",
    "\n",
    "==\n",
    "\n",
    "```\n",
    "ax.hist(r, density=True, histtype='stepfilled', alpha=0.2)\n",
    ">>> ax.legend(loc='best', frameon=False)\n",
    ">>> plt.show()\n",
    "```"
   ]
  },
  {
   "cell_type": "code",
   "execution_count": 45,
   "metadata": {},
   "outputs": [
    {
     "name": "stdout",
     "output_type": "stream",
     "text": [
      "(array(29.39283328), array(368.6428932), array(1.51154415), array(3.84704774))\n"
     ]
    },
    {
     "data": {
      "text/plain": [
       "<matplotlib.axes._subplots.AxesSubplot at 0x7f462b7376d8>"
      ]
     },
     "execution_count": 45,
     "metadata": {},
     "output_type": "execute_result"
    },
    {
     "data": {
      "image/png": "[encoded data removed]",
      "text/plain": [
       "<Figure size 432x288 with 1 Axes>"
      ]
     },
     "metadata": {
      "needs_background": "light"
     },
     "output_type": "display_data"
    }
   ],
   "source": [
    "k=7.5\n",
    "w=0.6\n",
    "loc=-1.75\n",
    "scale=1.01\n",
    "\n",
    "rv = gengamma(k,w,loc=loc,scale=scale)\n",
    "\n",
    "print(rv.stats(moments=\"mvsk\"))\n",
    "\n",
    "r = rv.rvs(size=10000)\n",
    "\n",
    "#plt.hist(r)\n",
    "\n",
    "\n",
    "r.round().astype(int)\n",
    "\n",
    "fake = pd.DataFrame.from_dict(Counter(r.round().astype(int)), orient='index', columns=['count_fake']).sort_index()\n",
    "\n",
    "fake[\"count_fake\"] = fake[\"count_fake\"]/fake[\"count_fake\"].sum()\n",
    "\n",
    "pd.concat([daily_count['probability'], fake], axis=1).plot()"
   ]
  },
  {
   "cell_type": "markdown",
   "metadata": {},
   "source": [
    "rv_continuous.fit(gamma, x, floc=0, fscale=4)"
   ]
  },
  {
   "cell_type": "markdown",
   "metadata": {},
   "source": [
    "rv_continuous.fit(gengamma, daily_count[\"count\"])"
   ]
  },
  {
   "cell_type": "code",
   "execution_count": 46,
   "metadata": {},
   "outputs": [
    {
     "data": {
      "text/plain": [
       "(7.501038683060314, 0.6135314520114181, -1.7527166146437148, 1.016664248133961)"
      ]
     },
     "execution_count": 46,
     "metadata": {},
     "output_type": "execute_result"
    }
   ],
   "source": [
    "gengamma.fit(by_day[\"ID\"])"
   ]
  },
  {
   "cell_type": "markdown",
   "metadata": {},
   "source": [
    "## Gaussian Kernel Estimation\n",
    "\n",
    "```\n",
    "from scipy.stats import gaussian_kde\n",
    "occurences = [0,0,0,0,..,1,1,1,1,...,2,2,2,2,...,47]\n",
    "values = range(0,48)\n",
    "kde = gaussian_kde(map(float, occurences))\n",
    "p = kde(values)\n",
    "p = p/sum(p)\n",
    "print \"P(x>=1) = %f\" % sum(p[1:])\n",
    "```"
   ]
  },
  {
   "cell_type": "code",
   "execution_count": 47,
   "metadata": {},
   "outputs": [],
   "source": [
    "kde = gaussian_kde(by_day[\"ID\"])"
   ]
  },
  {
   "cell_type": "code",
   "execution_count": 48,
   "metadata": {},
   "outputs": [
    {
     "data": {
      "text/plain": [
       "144"
      ]
     },
     "execution_count": 48,
     "metadata": {},
     "output_type": "execute_result"
    }
   ],
   "source": [
    "by_day[\"ID\"].max()"
   ]
  },
  {
   "cell_type": "code",
   "execution_count": 49,
   "metadata": {},
   "outputs": [
    {
     "data": {
      "text/plain": [
       "2      3\n",
       "3      5\n",
       "4      1\n",
       "5      3\n",
       "6      6\n",
       "      ..\n",
       "81     1\n",
       "87     1\n",
       "97     1\n",
       "112    1\n",
       "144    1\n",
       "Name: count, Length: 71, dtype: int64"
      ]
     },
     "execution_count": 49,
     "metadata": {},
     "output_type": "execute_result"
    }
   ],
   "source": [
    "daily_count[\"count\"]"
   ]
  },
  {
   "cell_type": "markdown",
   "metadata": {},
   "source": [
    "## Okay let's just see what the differences are "
   ]
  },
  {
   "cell_type": "code",
   "execution_count": 50,
   "metadata": {},
   "outputs": [],
   "source": [
    "ninety_days = by_day.iloc[len(by_day)-1].name - datetime.timedelta(days=90)\n",
    "thirty_days = by_day.iloc[len(by_day)-1].name - datetime.timedelta(days=30)"
   ]
  },
  {
   "cell_type": "code",
   "execution_count": 51,
   "metadata": {},
   "outputs": [],
   "source": [
    "df_30 = by_day[thirty_days:]\n",
    "df_90 = by_day[ninety_days:thirty_days]"
   ]
  },
  {
   "cell_type": "code",
   "execution_count": 52,
   "metadata": {},
   "outputs": [],
   "source": [
    "def make_pd(data):\n",
    "    k, v, loc, scale = gengamma.fit(data)\n",
    "    rv = gengamma(k,v,loc=loc,scale=scale)\n",
    "    print(rv.stats(moments=\"mvsk\"))\n",
    "    r = rv.rvs(size=10000)\n",
    "    \n",
    "    fake = pd.DataFrame.from_dict(Counter(r.round().astype(int)), orient='index', columns=['count_fake']).sort_index()\n",
    "    fake[\"count_fake\"] = fake[\"count_fake\"]/fake[\"count_fake\"].sum()\n",
    "    \n",
    "    return fake"
   ]
  },
  {
   "cell_type": "code",
   "execution_count": 53,
   "metadata": {},
   "outputs": [],
   "source": [
    "def make_n_pd(data):\n",
    "    fake = pd.DataFrame.from_dict(Counter(data), orient='index', columns=['count_real']).sort_index()\n",
    "    fake[\"count_real\"] = fake[\"count_real\"]/fake[\"count_real\"].sum()\n",
    "    return fake"
   ]
  },
  {
   "cell_type": "code",
   "execution_count": 54,
   "metadata": {},
   "outputs": [
    {
     "name": "stdout",
     "output_type": "stream",
     "text": [
      "(array(26.61343438), array(284.23536524), array(1.90762173), array(6.58379913))\n"
     ]
    }
   ],
   "source": [
    "a = make_pd(df_30[\"ID\"])\n",
    "a.columns = [\"dist_30\"]"
   ]
  },
  {
   "cell_type": "code",
   "execution_count": 55,
   "metadata": {},
   "outputs": [
    {
     "name": "stdout",
     "output_type": "stream",
     "text": [
      "(array(31.60045533), array(298.88056027), array(0.84418959), array(1.06414177))\n"
     ]
    }
   ],
   "source": [
    "b = make_pd(df_90[\"ID\"])\n",
    "b.columns = ['dist_90']"
   ]
  },
  {
   "cell_type": "code",
   "execution_count": 56,
   "metadata": {},
   "outputs": [],
   "source": [
    "a_1 = make_n_pd(df_30[\"ID\"])\n",
    "a_1.columns = ['real_dist_30']"
   ]
  },
  {
   "cell_type": "code",
   "execution_count": 57,
   "metadata": {},
   "outputs": [],
   "source": [
    "b_1 = make_n_pd(df_90[\"ID\"])\n",
    "b_1.columns = ['real_dist_90']"
   ]
  },
  {
   "cell_type": "code",
   "execution_count": 58,
   "metadata": {},
   "outputs": [
    {
     "data": {
      "text/plain": [
       "<matplotlib.axes._subplots.AxesSubplot at 0x7f462b6b0e10>"
      ]
     },
     "execution_count": 58,
     "metadata": {},
     "output_type": "execute_result"
    },
    {
     "data": {
      "image/png": "[encoded data removed]",
      "text/plain": [
       "<Figure size 432x288 with 1 Axes>"
      ]
     },
     "metadata": {
      "needs_background": "light"
     },
     "output_type": "display_data"
    }
   ],
   "source": [
    "pd.concat([a, a_1, b, b_1], axis=1).plot()"
   ]
  },
  {
   "cell_type": "code",
   "execution_count": 59,
   "metadata": {},
   "outputs": [],
   "source": [
    "k, v, loc, scale = gengamma.fit(df_30[\"ID\"])"
   ]
  },
  {
   "cell_type": "code",
   "execution_count": 60,
   "metadata": {},
   "outputs": [],
   "source": [
    "k, v, loc, scale = gengamma.fit(df_90[\"ID\"])"
   ]
  },
  {
   "cell_type": "markdown",
   "metadata": {},
   "source": [
    "## Fit a Poisson distribution\n",
    "\n",
    "Maybe do it like this: https://stackoverflow.com/questions/25828184/fitting-to-poisson-histogram"
   ]
  },
  {
   "cell_type": "code",
   "execution_count": 62,
   "metadata": {},
   "outputs": [
    {
     "ename": "AttributeError",
     "evalue": "'poisson_gen' object has no attribute 'fit'",
     "output_type": "error",
     "traceback": [
      "\u001b[0;31m---------------------------------------------------------------------------\u001b[0m",
      "\u001b[0;31mAttributeError\u001b[0m                            Traceback (most recent call last)",
      "\u001b[0;32m<ipython-input-62-20ebb6465ee9>\u001b[0m in \u001b[0;36m<module>\u001b[0;34m\u001b[0m\n\u001b[0;32m----> 1\u001b[0;31m \u001b[0mpoisson\u001b[0m\u001b[0;34m.\u001b[0m\u001b[0mfit\u001b[0m\u001b[0;34m(\u001b[0m\u001b[0mdf_30\u001b[0m\u001b[0;34m[\u001b[0m\u001b[0;34m\"ID\"\u001b[0m\u001b[0;34m]\u001b[0m\u001b[0;34m)\u001b[0m\u001b[0;34m\u001b[0m\u001b[0;34m\u001b[0m\u001b[0m\n\u001b[0m",
      "\u001b[0;31mAttributeError\u001b[0m: 'poisson_gen' object has no attribute 'fit'"
     ]
    }
   ],
   "source": []
  }
 ],
 "metadata": {
  "kernelspec": {
   "display_name": "Python (trump_tweets)",
   "language": "python",
   "name": "trump_tweets"
  },
  "language_info": {
   "codemirror_mode": {
    "name": "ipython",
    "version": 3
   },
   "file_extension": ".py",
   "mimetype": "text/x-python",
   "name": "python",
   "nbconvert_exporter": "python",
   "pygments_lexer": "ipython3",
   "version": "3.6.9"
  }
 },
 "nbformat": 4,
 "nbformat_minor": 4
}
