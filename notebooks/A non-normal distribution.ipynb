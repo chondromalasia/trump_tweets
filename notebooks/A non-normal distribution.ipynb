{
 "cells": [
  {
   "cell_type": "markdown",
   "metadata": {},
   "source": [
    "## Okay let's see how well we can process a non-normal distribution"
   ]
  },
  {
   "cell_type": "code",
   "execution_count": 1,
   "metadata": {},
   "outputs": [],
   "source": [
    "import sys\n",
    "from collections import Counter\n",
    "\n",
    "from scipy.stats import gengamma\n",
    "import pandas as pd\n",
    "\n",
    "sys.path.append(\"..\")\n",
    "\n",
    "from src.tweetdownloader import TweetDownloader\n",
    "import src.utils as utils"
   ]
  },
  {
   "cell_type": "code",
   "execution_count": 2,
   "metadata": {},
   "outputs": [],
   "source": [
    "first = 'realDonaldTrump'"
   ]
  },
  {
   "cell_type": "code",
   "execution_count": 3,
   "metadata": {},
   "outputs": [
    {
     "name": "stderr",
     "output_type": "stream",
     "text": [
      "INFO:root:API created\n",
      "INFO:root:Liberating realDonaldTrump\n",
      "INFO:root:\tPage: 0\n",
      "INFO:root:Found: 1 duplicate rows\n",
      "INFO:root:Writing ../data/realDonaldTrump.csv\n"
     ]
    }
   ],
   "source": [
    "tweets = TweetDownloader(to_load=first)"
   ]
  },
  {
   "cell_type": "code",
   "execution_count": 4,
   "metadata": {},
   "outputs": [],
   "source": [
    "tweets_90_days = utils.setup_data(tweets.dataset)"
   ]
  },
  {
   "cell_type": "markdown",
   "metadata": {},
   "source": [
    "k=7.5\n",
    "w=0.6\n",
    "loc=-1.75\n",
    "scale=1.01\n",
    "\n",
    "k, w, loc, scale = gengamma.fit(by_day[\"ID\"])\n",
    "\n",
    "rv = gengamma(k,w,loc=loc,scale=scale)\n",
    "\n",
    "print(rv.stats(moments=\"mvsk\"))\n",
    "\n",
    "r = rv.rvs(size=10000)\n",
    "\n",
    "#plt.hist(r)\n",
    "\n",
    "\n",
    "r.round().astype(int)\n",
    "\n",
    "fake = pd.DataFrame.from_dict(Counter(r.round().astype(int)), orient='index', columns=['count_fake']).sort_index()\n",
    "\n",
    "fake[\"count_fake\"] = fake[\"count_fake\"]/fake[\"count_fake\"].sum()\n",
    "\n",
    "pd.concat([daily_count['probability'], fake], axis=1).plot()"
   ]
  },
  {
   "cell_type": "code",
   "execution_count": 5,
   "metadata": {},
   "outputs": [
    {
     "name": "stdout",
     "output_type": "stream",
     "text": [
      "(array(29.64779683), array(345.02234775), array(1.42739532), array(3.38559602))\n"
     ]
    }
   ],
   "source": [
    "k, w, loc, scale = gengamma.fit(tweets_90_days[\"id\"])\n",
    "rv = gengamma(k,w,loc=loc,scale=scale)\n",
    "print(rv.stats(moments=\"mvsk\"))"
   ]
  },
  {
   "cell_type": "code",
   "execution_count": 6,
   "metadata": {},
   "outputs": [],
   "source": [
    "days = 7\n",
    "x = 10000"
   ]
  },
  {
   "cell_type": "code",
   "execution_count": 7,
   "metadata": {},
   "outputs": [],
   "source": [
    "d_dict = dict()\n",
    "for i in range(days):\n",
    "    a = rv.rvs(size=x).round().astype(int)\n",
    "    d_dict[str(i)] = a"
   ]
  },
  {
   "cell_type": "code",
   "execution_count": 8,
   "metadata": {},
   "outputs": [],
   "source": [
    "df = pd.DataFrame.from_dict(d_dict)"
   ]
  },
  {
   "cell_type": "code",
   "execution_count": 9,
   "metadata": {},
   "outputs": [
    {
     "data": {
      "text/html": [
       "<div>\n",
       "<style scoped>\n",
       "    .dataframe tbody tr th:only-of-type {\n",
       "        vertical-align: middle;\n",
       "    }\n",
       "\n",
       "    .dataframe tbody tr th {\n",
       "        vertical-align: top;\n",
       "    }\n",
       "\n",
       "    .dataframe thead th {\n",
       "        text-align: right;\n",
       "    }\n",
       "</style>\n",
       "<table border=\"1\" class=\"dataframe\">\n",
       "  <thead>\n",
       "    <tr style=\"text-align: right;\">\n",
       "      <th></th>\n",
       "      <th>0</th>\n",
       "      <th>1</th>\n",
       "      <th>2</th>\n",
       "      <th>3</th>\n",
       "      <th>4</th>\n",
       "      <th>5</th>\n",
       "      <th>6</th>\n",
       "    </tr>\n",
       "  </thead>\n",
       "  <tbody>\n",
       "    <tr>\n",
       "      <th>0</th>\n",
       "      <td>16</td>\n",
       "      <td>17</td>\n",
       "      <td>17</td>\n",
       "      <td>13</td>\n",
       "      <td>65</td>\n",
       "      <td>6</td>\n",
       "      <td>32</td>\n",
       "    </tr>\n",
       "    <tr>\n",
       "      <th>1</th>\n",
       "      <td>52</td>\n",
       "      <td>45</td>\n",
       "      <td>28</td>\n",
       "      <td>13</td>\n",
       "      <td>26</td>\n",
       "      <td>62</td>\n",
       "      <td>61</td>\n",
       "    </tr>\n",
       "    <tr>\n",
       "      <th>2</th>\n",
       "      <td>68</td>\n",
       "      <td>16</td>\n",
       "      <td>17</td>\n",
       "      <td>45</td>\n",
       "      <td>13</td>\n",
       "      <td>24</td>\n",
       "      <td>57</td>\n",
       "    </tr>\n",
       "    <tr>\n",
       "      <th>3</th>\n",
       "      <td>10</td>\n",
       "      <td>15</td>\n",
       "      <td>36</td>\n",
       "      <td>44</td>\n",
       "      <td>27</td>\n",
       "      <td>56</td>\n",
       "      <td>22</td>\n",
       "    </tr>\n",
       "    <tr>\n",
       "      <th>4</th>\n",
       "      <td>21</td>\n",
       "      <td>20</td>\n",
       "      <td>12</td>\n",
       "      <td>24</td>\n",
       "      <td>29</td>\n",
       "      <td>27</td>\n",
       "      <td>51</td>\n",
       "    </tr>\n",
       "    <tr>\n",
       "      <th>...</th>\n",
       "      <td>...</td>\n",
       "      <td>...</td>\n",
       "      <td>...</td>\n",
       "      <td>...</td>\n",
       "      <td>...</td>\n",
       "      <td>...</td>\n",
       "      <td>...</td>\n",
       "    </tr>\n",
       "    <tr>\n",
       "      <th>9995</th>\n",
       "      <td>11</td>\n",
       "      <td>49</td>\n",
       "      <td>50</td>\n",
       "      <td>44</td>\n",
       "      <td>18</td>\n",
       "      <td>32</td>\n",
       "      <td>24</td>\n",
       "    </tr>\n",
       "    <tr>\n",
       "      <th>9996</th>\n",
       "      <td>80</td>\n",
       "      <td>43</td>\n",
       "      <td>40</td>\n",
       "      <td>28</td>\n",
       "      <td>24</td>\n",
       "      <td>21</td>\n",
       "      <td>4</td>\n",
       "    </tr>\n",
       "    <tr>\n",
       "      <th>9997</th>\n",
       "      <td>35</td>\n",
       "      <td>13</td>\n",
       "      <td>16</td>\n",
       "      <td>16</td>\n",
       "      <td>27</td>\n",
       "      <td>22</td>\n",
       "      <td>12</td>\n",
       "    </tr>\n",
       "    <tr>\n",
       "      <th>9998</th>\n",
       "      <td>32</td>\n",
       "      <td>39</td>\n",
       "      <td>55</td>\n",
       "      <td>11</td>\n",
       "      <td>43</td>\n",
       "      <td>30</td>\n",
       "      <td>22</td>\n",
       "    </tr>\n",
       "    <tr>\n",
       "      <th>9999</th>\n",
       "      <td>52</td>\n",
       "      <td>16</td>\n",
       "      <td>22</td>\n",
       "      <td>11</td>\n",
       "      <td>73</td>\n",
       "      <td>31</td>\n",
       "      <td>3</td>\n",
       "    </tr>\n",
       "  </tbody>\n",
       "</table>\n",
       "<p>10000 rows × 7 columns</p>\n",
       "</div>"
      ],
      "text/plain": [
       "       0   1   2   3   4   5   6\n",
       "0     16  17  17  13  65   6  32\n",
       "1     52  45  28  13  26  62  61\n",
       "2     68  16  17  45  13  24  57\n",
       "3     10  15  36  44  27  56  22\n",
       "4     21  20  12  24  29  27  51\n",
       "...   ..  ..  ..  ..  ..  ..  ..\n",
       "9995  11  49  50  44  18  32  24\n",
       "9996  80  43  40  28  24  21   4\n",
       "9997  35  13  16  16  27  22  12\n",
       "9998  32  39  55  11  43  30  22\n",
       "9999  52  16  22  11  73  31   3\n",
       "\n",
       "[10000 rows x 7 columns]"
      ]
     },
     "execution_count": 9,
     "metadata": {},
     "output_type": "execute_result"
    }
   ],
   "source": [
    "df"
   ]
  },
  {
   "cell_type": "code",
   "execution_count": 10,
   "metadata": {},
   "outputs": [
    {
     "data": {
      "text/plain": [
       "0       166\n",
       "1       287\n",
       "2       240\n",
       "3       210\n",
       "4       184\n",
       "       ... \n",
       "9995    228\n",
       "9996    240\n",
       "9997    141\n",
       "9998    232\n",
       "9999    208\n",
       "Length: 10000, dtype: int64"
      ]
     },
     "execution_count": 10,
     "metadata": {},
     "output_type": "execute_result"
    }
   ],
   "source": [
    "summed = df.sum(axis=1)\n",
    "summed"
   ]
  },
  {
   "cell_type": "code",
   "execution_count": 11,
   "metadata": {},
   "outputs": [],
   "source": [
    "counts = pd.Series(Counter(summed))"
   ]
  },
  {
   "cell_type": "code",
   "execution_count": 12,
   "metadata": {},
   "outputs": [
    {
     "data": {
      "text/plain": [
       "166    70\n",
       "287    16\n",
       "240    56\n",
       "210    87\n",
       "184    80\n",
       "       ..\n",
       "382     1\n",
       "376     1\n",
       "353     1\n",
       "378     1\n",
       "414     1\n",
       "Length: 309, dtype: int64"
      ]
     },
     "execution_count": 12,
     "metadata": {},
     "output_type": "execute_result"
    }
   ],
   "source": [
    "counts"
   ]
  },
  {
   "cell_type": "code",
   "execution_count": 13,
   "metadata": {},
   "outputs": [],
   "source": [
    "prior_counts = utils.prior_bucket_maker(summed, 169)"
   ]
  },
  {
   "cell_type": "code",
   "execution_count": 14,
   "metadata": {},
   "outputs": [],
   "source": [
    "weeklies = pd.DataFrame.from_dict(prior_counts, orient='index', columns=[\"Counts\"])"
   ]
  },
  {
   "cell_type": "code",
   "execution_count": 15,
   "metadata": {},
   "outputs": [
    {
     "data": {
      "text/plain": [
       "169        0.2287\n",
       "170-179    0.0749\n",
       "180-189    0.0833\n",
       "190-199    0.0837\n",
       "200-209    0.0785\n",
       "210-219    0.0749\n",
       "220-229    0.0708\n",
       "230-239    0.0607\n",
       "240        0.2445\n",
       "Name: Counts, dtype: float64"
      ]
     },
     "execution_count": 15,
     "metadata": {},
     "output_type": "execute_result"
    }
   ],
   "source": [
    "weeklies[\"Counts\"] / weeklies[\"Counts\"].sum()"
   ]
  },
  {
   "cell_type": "code",
   "execution_count": 16,
   "metadata": {},
   "outputs": [],
   "source": [
    "days_to_go = 1.66\n",
    "tweets_so_far = 212"
   ]
  },
  {
   "cell_type": "code",
   "execution_count": 17,
   "metadata": {},
   "outputs": [],
   "source": [
    "whole_days = int(days_to_go)\n",
    "remainder = days_to_go - whole_days"
   ]
  },
  {
   "cell_type": "code",
   "execution_count": 18,
   "metadata": {},
   "outputs": [
    {
     "data": {
      "text/plain": [
       "0.6599999999999999"
      ]
     },
     "execution_count": 18,
     "metadata": {},
     "output_type": "execute_result"
    }
   ],
   "source": [
    "remainder"
   ]
  },
  {
   "cell_type": "code",
   "execution_count": 19,
   "metadata": {},
   "outputs": [],
   "source": [
    "d_dict = dict()\n",
    "for i in range(whole_days+1):\n",
    "    a = rv.rvs(size=x).round().astype(int)\n",
    "    d_dict[str(i)] = a"
   ]
  },
  {
   "cell_type": "code",
   "execution_count": 20,
   "metadata": {},
   "outputs": [],
   "source": [
    "df = pd.DataFrame.from_dict(d_dict)"
   ]
  },
  {
   "cell_type": "code",
   "execution_count": 21,
   "metadata": {},
   "outputs": [
    {
     "data": {
      "text/html": [
       "<div>\n",
       "<style scoped>\n",
       "    .dataframe tbody tr th:only-of-type {\n",
       "        vertical-align: middle;\n",
       "    }\n",
       "\n",
       "    .dataframe tbody tr th {\n",
       "        vertical-align: top;\n",
       "    }\n",
       "\n",
       "    .dataframe thead th {\n",
       "        text-align: right;\n",
       "    }\n",
       "</style>\n",
       "<table border=\"1\" class=\"dataframe\">\n",
       "  <thead>\n",
       "    <tr style=\"text-align: right;\">\n",
       "      <th></th>\n",
       "      <th>0</th>\n",
       "      <th>1</th>\n",
       "    </tr>\n",
       "  </thead>\n",
       "  <tbody>\n",
       "    <tr>\n",
       "      <th>0</th>\n",
       "      <td>16</td>\n",
       "      <td>24</td>\n",
       "    </tr>\n",
       "    <tr>\n",
       "      <th>1</th>\n",
       "      <td>20</td>\n",
       "      <td>34</td>\n",
       "    </tr>\n",
       "    <tr>\n",
       "      <th>2</th>\n",
       "      <td>39</td>\n",
       "      <td>32</td>\n",
       "    </tr>\n",
       "    <tr>\n",
       "      <th>3</th>\n",
       "      <td>49</td>\n",
       "      <td>11</td>\n",
       "    </tr>\n",
       "    <tr>\n",
       "      <th>4</th>\n",
       "      <td>37</td>\n",
       "      <td>16</td>\n",
       "    </tr>\n",
       "    <tr>\n",
       "      <th>...</th>\n",
       "      <td>...</td>\n",
       "      <td>...</td>\n",
       "    </tr>\n",
       "    <tr>\n",
       "      <th>9995</th>\n",
       "      <td>24</td>\n",
       "      <td>8</td>\n",
       "    </tr>\n",
       "    <tr>\n",
       "      <th>9996</th>\n",
       "      <td>24</td>\n",
       "      <td>32</td>\n",
       "    </tr>\n",
       "    <tr>\n",
       "      <th>9997</th>\n",
       "      <td>23</td>\n",
       "      <td>21</td>\n",
       "    </tr>\n",
       "    <tr>\n",
       "      <th>9998</th>\n",
       "      <td>27</td>\n",
       "      <td>18</td>\n",
       "    </tr>\n",
       "    <tr>\n",
       "      <th>9999</th>\n",
       "      <td>35</td>\n",
       "      <td>15</td>\n",
       "    </tr>\n",
       "  </tbody>\n",
       "</table>\n",
       "<p>10000 rows × 2 columns</p>\n",
       "</div>"
      ],
      "text/plain": [
       "       0   1\n",
       "0     16  24\n",
       "1     20  34\n",
       "2     39  32\n",
       "3     49  11\n",
       "4     37  16\n",
       "...   ..  ..\n",
       "9995  24   8\n",
       "9996  24  32\n",
       "9997  23  21\n",
       "9998  27  18\n",
       "9999  35  15\n",
       "\n",
       "[10000 rows x 2 columns]"
      ]
     },
     "execution_count": 21,
     "metadata": {},
     "output_type": "execute_result"
    }
   ],
   "source": [
    "df[str(i)] = round(df[str(i)] * remainder).astype(int)\n",
    "df"
   ]
  },
  {
   "cell_type": "code",
   "execution_count": 22,
   "metadata": {},
   "outputs": [
    {
     "data": {
      "text/plain": [
       "0       252\n",
       "1       266\n",
       "2       283\n",
       "3       272\n",
       "4       265\n",
       "       ... \n",
       "9995    244\n",
       "9996    268\n",
       "9997    256\n",
       "9998    257\n",
       "9999    262\n",
       "Length: 10000, dtype: int64"
      ]
     },
     "execution_count": 22,
     "metadata": {},
     "output_type": "execute_result"
    }
   ],
   "source": [
    "summed = df.sum(axis=1) + tweets_so_far\n",
    "summed"
   ]
  },
  {
   "cell_type": "code",
   "execution_count": 23,
   "metadata": {},
   "outputs": [],
   "source": [
    "prior_counts = utils.prior_bucket_maker(summed, 169)"
   ]
  },
  {
   "cell_type": "code",
   "execution_count": 24,
   "metadata": {},
   "outputs": [],
   "source": [
    "weeklies = pd.DataFrame.from_dict(prior_counts, orient='index', columns=[\"Counts\"])"
   ]
  },
  {
   "cell_type": "code",
   "execution_count": 25,
   "metadata": {},
   "outputs": [
    {
     "data": {
      "text/plain": [
       "169        0.0000\n",
       "170-179    0.0000\n",
       "180-189    0.0000\n",
       "190-199    0.0000\n",
       "200-209    0.0000\n",
       "210-219    0.0007\n",
       "220-229    0.0301\n",
       "230-239    0.1182\n",
       "240        0.8510\n",
       "Name: Counts, dtype: float64"
      ]
     },
     "execution_count": 25,
     "metadata": {},
     "output_type": "execute_result"
    }
   ],
   "source": [
    "weeklies[\"Counts\"] / weeklies[\"Counts\"].sum()"
   ]
  }
 ],
 "metadata": {
  "kernelspec": {
   "display_name": "Python (trump_tweets)",
   "language": "python",
   "name": "trump_tweets"
  },
  "language_info": {
   "codemirror_mode": {
    "name": "ipython",
    "version": 3
   },
   "file_extension": ".py",
   "mimetype": "text/x-python",
   "name": "python",
   "nbconvert_exporter": "python",
   "pygments_lexer": "ipython3",
   "version": "3.6.9"
  }
 },
 "nbformat": 4,
 "nbformat_minor": 4
}
