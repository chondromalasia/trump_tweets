{
 "cells": [
  {
   "cell_type": "markdown",
   "metadata": {},
   "source": [
    "## Simple projections\n",
    "\n",
    "Until I get this sheez automated, I'm just going to easy-style run it in here."
   ]
  },
  {
   "cell_type": "code",
   "execution_count": 1,
   "metadata": {},
   "outputs": [],
   "source": [
    "import sys\n",
    "import datetime\n",
    "\n",
    "import pandas as pd\n",
    "import numpy as np\n",
    "\n",
    "sys.path.append(\"..\")\n",
    "import src.utils as utils\n",
    "import src.poisson as poisson"
   ]
  },
  {
   "cell_type": "code",
   "execution_count": 2,
   "metadata": {},
   "outputs": [],
   "source": [
    "def setup_data(name, days=90):\n",
    "    df = utils.tweets(name)\n",
    "    by_day = df.groupby(df.index.date).count()\n",
    "    cutoff_date = by_day.iloc[len(by_day)-1].name - datetime.timedelta(days=days)\n",
    "    return by_day[cutoff_date:]\n",
    "    "
   ]
  },
  {
   "cell_type": "markdown",
   "metadata": {},
   "source": [
    "## realDonaldTrump"
   ]
  },
  {
   "cell_type": "code",
   "execution_count": 3,
   "metadata": {},
   "outputs": [
    {
     "data": {
      "text/plain": [
       "{'169': 0.0,\n",
       " '170-179': 0.0,\n",
       " '180-189': 0.0,\n",
       " '190-199': 1.7000000000000002,\n",
       " '200-209': 15.2,\n",
       " '210-219': 36.6,\n",
       " '220-229': 28.000000000000004,\n",
       " '230-239': 7.6,\n",
       " '240': 0.8999999999999999}"
      ]
     },
     "execution_count": 3,
     "metadata": {},
     "output_type": "execute_result"
    }
   ],
   "source": [
    "days_left = 2.91\n",
    "tweets_so_far = 135\n",
    "lower = 169\n",
    "gap = 10\n",
    "poisson.basic_poisson(setup_data('realDonaldTrump')[\"ID\"], days_left, tweets_so_far, lower=lower, gap=gap)"
   ]
  },
  {
   "cell_type": "markdown",
   "metadata": {},
   "source": [
    "## potus"
   ]
  },
  {
   "cell_type": "code",
   "execution_count": 4,
   "metadata": {},
   "outputs": [
    {
     "data": {
      "text/plain": [
       "{'64': 78.4,\n",
       " '65-69': 10.6,\n",
       " '70-74': 3.8,\n",
       " '75-79': 0.8999999999999999,\n",
       " '80-84': 0.2,\n",
       " '85-89': 0.0,\n",
       " '90-94': 0.0,\n",
       " '95-99': 0.0,\n",
       " '100': 0.0}"
      ]
     },
     "execution_count": 4,
     "metadata": {},
     "output_type": "execute_result"
    }
   ],
   "source": [
    "days_left = 4.91\n",
    "tweets_so_far = 9\n",
    "lower = 64\n",
    "gap = 5\n",
    "poisson.basic_poisson(setup_data('potus')[\"ID\"], days_left, tweets_so_far, lower=lower, gap=gap)"
   ]
  },
  {
   "cell_type": "markdown",
   "metadata": {},
   "source": [
    "## Whitehouse"
   ]
  },
  {
   "cell_type": "code",
   "execution_count": 5,
   "metadata": {},
   "outputs": [
    {
     "data": {
      "text/plain": [
       "{'199': 99.3,\n",
       " '200-209': 0.5,\n",
       " '210-219': 0.0,\n",
       " '220-229': 0.0,\n",
       " '230-239': 0.0,\n",
       " '240-249': 0.0,\n",
       " '250-259': 0.0,\n",
       " '260-269': 0.0,\n",
       " '270': 0.0}"
      ]
     },
     "execution_count": 5,
     "metadata": {},
     "output_type": "execute_result"
    }
   ],
   "source": [
    "days_left = 3.91\n",
    "tweets_so_far = 65\n",
    "lower = 199\n",
    "gap = 10\n",
    "poisson.basic_poisson(setup_data('whitehouse')[\"ID\"], days_left, tweets_so_far, lower=lower, gap=gap)"
   ]
  }
 ],
 "metadata": {
  "kernelspec": {
   "display_name": "Python (trump_tweets)",
   "language": "python",
   "name": "trump_tweets"
  },
  "language_info": {
   "codemirror_mode": {
    "name": "ipython",
    "version": 3
   },
   "file_extension": ".py",
   "mimetype": "text/x-python",
   "name": "python",
   "nbconvert_exporter": "python",
   "pygments_lexer": "ipython3",
   "version": "3.6.9"
  }
 },
 "nbformat": 4,
 "nbformat_minor": 4
}
