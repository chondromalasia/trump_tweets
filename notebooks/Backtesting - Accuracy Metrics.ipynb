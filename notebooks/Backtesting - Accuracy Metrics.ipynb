{
 "cells": [
  {
   "cell_type": "markdown",
   "metadata": {},
   "source": [
    "# How good at this am I?\n",
    "\n",
    "We are going to be testing the quality of these models, and we'll start with the Brier score.\n",
    "\n",
    "https://en.wikipedia.org/wiki/Brier_score"
   ]
  },
  {
   "cell_type": "markdown",
   "metadata": {},
   "source": [
    "## A note on buckets\n",
    "\n",
    "Until I figure out how the buckets are created, I'm just going to stick with the average of the past 7 weeks, treat that as the middle bucket and then go from there. I got 173, so the buckets look like this:\n",
    "\n",
    "139 or fewer\n",
    "140 - 149\n",
    "150 - 159\n",
    "160 - 169\n",
    "170 - 179\n",
    "etc"
   ]
  },
  {
   "cell_type": "code",
   "execution_count": 103,
   "metadata": {},
   "outputs": [],
   "source": [
    "import sys\n",
    "import datetime\n",
    "\n",
    "import pandas as pd\n",
    "import numpy as np\n",
    "\n",
    "sys.path.append(\"..\")\n",
    "\n",
    "import src.utils as utils\n",
    "import src.poisson as poisson"
   ]
  },
  {
   "cell_type": "code",
   "execution_count": 104,
   "metadata": {},
   "outputs": [],
   "source": [
    "df = utils.tweets('realDonaldTrump')\n",
    "by_day = df.groupby(df.index.date).count()\n",
    "by_day.index = pd.to_datetime(by_day.index)"
   ]
  },
  {
   "cell_type": "markdown",
   "metadata": {},
   "source": [
    "## Timing\n",
    "\n",
    "We'll start 30 days ago, and use at most 90 days"
   ]
  },
  {
   "cell_type": "code",
   "execution_count": 105,
   "metadata": {},
   "outputs": [],
   "source": [
    "start_date = datetime.datetime.now() - datetime.timedelta(days=30)\n",
    "end_of_data = start_date - datetime.timedelta(days=90)"
   ]
  },
  {
   "cell_type": "markdown",
   "metadata": {},
   "source": [
    "## rolling sums"
   ]
  },
  {
   "cell_type": "code",
   "execution_count": 106,
   "metadata": {},
   "outputs": [],
   "source": [
    "for i in range(1,8):\n",
    "    by_day[f\"Sum_{i}\"] = by_day[\"ID\"].shift(1).rolling(i).sum()"
   ]
  },
  {
   "cell_type": "code",
   "execution_count": 107,
   "metadata": {},
   "outputs": [
    {
     "data": {
      "text/html": [
       "<div>\n",
       "<style scoped>\n",
       "    .dataframe tbody tr th:only-of-type {\n",
       "        vertical-align: middle;\n",
       "    }\n",
       "\n",
       "    .dataframe tbody tr th {\n",
       "        vertical-align: top;\n",
       "    }\n",
       "\n",
       "    .dataframe thead th {\n",
       "        text-align: right;\n",
       "    }\n",
       "</style>\n",
       "<table border=\"1\" class=\"dataframe\">\n",
       "  <thead>\n",
       "    <tr style=\"text-align: right;\">\n",
       "      <th></th>\n",
       "      <th>ID</th>\n",
       "      <th>Sum_1</th>\n",
       "      <th>Sum_2</th>\n",
       "      <th>Sum_3</th>\n",
       "      <th>Sum_4</th>\n",
       "      <th>Sum_5</th>\n",
       "      <th>Sum_6</th>\n",
       "      <th>Sum_7</th>\n",
       "    </tr>\n",
       "  </thead>\n",
       "  <tbody>\n",
       "    <tr>\n",
       "      <th>2017-01-01</th>\n",
       "      <td>6</td>\n",
       "      <td>NaN</td>\n",
       "      <td>NaN</td>\n",
       "      <td>NaN</td>\n",
       "      <td>NaN</td>\n",
       "      <td>NaN</td>\n",
       "      <td>NaN</td>\n",
       "      <td>NaN</td>\n",
       "    </tr>\n",
       "    <tr>\n",
       "      <th>2017-01-02</th>\n",
       "      <td>7</td>\n",
       "      <td>6.0</td>\n",
       "      <td>NaN</td>\n",
       "      <td>NaN</td>\n",
       "      <td>NaN</td>\n",
       "      <td>NaN</td>\n",
       "      <td>NaN</td>\n",
       "      <td>NaN</td>\n",
       "    </tr>\n",
       "    <tr>\n",
       "      <th>2017-01-03</th>\n",
       "      <td>10</td>\n",
       "      <td>7.0</td>\n",
       "      <td>13.0</td>\n",
       "      <td>NaN</td>\n",
       "      <td>NaN</td>\n",
       "      <td>NaN</td>\n",
       "      <td>NaN</td>\n",
       "      <td>NaN</td>\n",
       "    </tr>\n",
       "    <tr>\n",
       "      <th>2017-01-04</th>\n",
       "      <td>10</td>\n",
       "      <td>10.0</td>\n",
       "      <td>17.0</td>\n",
       "      <td>23.0</td>\n",
       "      <td>NaN</td>\n",
       "      <td>NaN</td>\n",
       "      <td>NaN</td>\n",
       "      <td>NaN</td>\n",
       "    </tr>\n",
       "    <tr>\n",
       "      <th>2017-01-05</th>\n",
       "      <td>6</td>\n",
       "      <td>10.0</td>\n",
       "      <td>20.0</td>\n",
       "      <td>27.0</td>\n",
       "      <td>33.0</td>\n",
       "      <td>NaN</td>\n",
       "      <td>NaN</td>\n",
       "      <td>NaN</td>\n",
       "    </tr>\n",
       "    <tr>\n",
       "      <th>...</th>\n",
       "      <td>...</td>\n",
       "      <td>...</td>\n",
       "      <td>...</td>\n",
       "      <td>...</td>\n",
       "      <td>...</td>\n",
       "      <td>...</td>\n",
       "      <td>...</td>\n",
       "      <td>...</td>\n",
       "    </tr>\n",
       "    <tr>\n",
       "      <th>2020-05-02</th>\n",
       "      <td>40</td>\n",
       "      <td>38.0</td>\n",
       "      <td>101.0</td>\n",
       "      <td>122.0</td>\n",
       "      <td>144.0</td>\n",
       "      <td>182.0</td>\n",
       "      <td>199.0</td>\n",
       "      <td>226.0</td>\n",
       "    </tr>\n",
       "    <tr>\n",
       "      <th>2020-05-03</th>\n",
       "      <td>30</td>\n",
       "      <td>40.0</td>\n",
       "      <td>78.0</td>\n",
       "      <td>141.0</td>\n",
       "      <td>162.0</td>\n",
       "      <td>184.0</td>\n",
       "      <td>222.0</td>\n",
       "      <td>239.0</td>\n",
       "    </tr>\n",
       "    <tr>\n",
       "      <th>2020-05-04</th>\n",
       "      <td>11</td>\n",
       "      <td>30.0</td>\n",
       "      <td>70.0</td>\n",
       "      <td>108.0</td>\n",
       "      <td>171.0</td>\n",
       "      <td>192.0</td>\n",
       "      <td>214.0</td>\n",
       "      <td>252.0</td>\n",
       "    </tr>\n",
       "    <tr>\n",
       "      <th>2020-05-05</th>\n",
       "      <td>32</td>\n",
       "      <td>11.0</td>\n",
       "      <td>41.0</td>\n",
       "      <td>81.0</td>\n",
       "      <td>119.0</td>\n",
       "      <td>182.0</td>\n",
       "      <td>203.0</td>\n",
       "      <td>225.0</td>\n",
       "    </tr>\n",
       "    <tr>\n",
       "      <th>2020-05-06</th>\n",
       "      <td>13</td>\n",
       "      <td>32.0</td>\n",
       "      <td>43.0</td>\n",
       "      <td>73.0</td>\n",
       "      <td>113.0</td>\n",
       "      <td>151.0</td>\n",
       "      <td>214.0</td>\n",
       "      <td>235.0</td>\n",
       "    </tr>\n",
       "  </tbody>\n",
       "</table>\n",
       "<p>1209 rows × 8 columns</p>\n",
       "</div>"
      ],
      "text/plain": [
       "            ID  Sum_1  Sum_2  Sum_3  Sum_4  Sum_5  Sum_6  Sum_7\n",
       "2017-01-01   6    NaN    NaN    NaN    NaN    NaN    NaN    NaN\n",
       "2017-01-02   7    6.0    NaN    NaN    NaN    NaN    NaN    NaN\n",
       "2017-01-03  10    7.0   13.0    NaN    NaN    NaN    NaN    NaN\n",
       "2017-01-04  10   10.0   17.0   23.0    NaN    NaN    NaN    NaN\n",
       "2017-01-05   6   10.0   20.0   27.0   33.0    NaN    NaN    NaN\n",
       "...         ..    ...    ...    ...    ...    ...    ...    ...\n",
       "2020-05-02  40   38.0  101.0  122.0  144.0  182.0  199.0  226.0\n",
       "2020-05-03  30   40.0   78.0  141.0  162.0  184.0  222.0  239.0\n",
       "2020-05-04  11   30.0   70.0  108.0  171.0  192.0  214.0  252.0\n",
       "2020-05-05  32   11.0   41.0   81.0  119.0  182.0  203.0  225.0\n",
       "2020-05-06  13   32.0   43.0   73.0  113.0  151.0  214.0  235.0\n",
       "\n",
       "[1209 rows x 8 columns]"
      ]
     },
     "execution_count": 107,
     "metadata": {},
     "output_type": "execute_result"
    }
   ],
   "source": [
    "by_day"
   ]
  },
  {
   "cell_type": "code",
   "execution_count": 108,
   "metadata": {},
   "outputs": [],
   "source": [
    "by_day.sort_index(ascending=False, inplace=True)"
   ]
  },
  {
   "cell_type": "code",
   "execution_count": 109,
   "metadata": {},
   "outputs": [
    {
     "data": {
      "text/html": [
       "<div>\n",
       "<style scoped>\n",
       "    .dataframe tbody tr th:only-of-type {\n",
       "        vertical-align: middle;\n",
       "    }\n",
       "\n",
       "    .dataframe tbody tr th {\n",
       "        vertical-align: top;\n",
       "    }\n",
       "\n",
       "    .dataframe thead th {\n",
       "        text-align: right;\n",
       "    }\n",
       "</style>\n",
       "<table border=\"1\" class=\"dataframe\">\n",
       "  <thead>\n",
       "    <tr style=\"text-align: right;\">\n",
       "      <th></th>\n",
       "      <th>ID</th>\n",
       "      <th>Sum_1</th>\n",
       "      <th>Sum_2</th>\n",
       "      <th>Sum_3</th>\n",
       "      <th>Sum_4</th>\n",
       "      <th>Sum_5</th>\n",
       "      <th>Sum_6</th>\n",
       "      <th>Sum_7</th>\n",
       "    </tr>\n",
       "  </thead>\n",
       "  <tbody>\n",
       "    <tr>\n",
       "      <th>2020-04-07</th>\n",
       "      <td>19</td>\n",
       "      <td>20.0</td>\n",
       "      <td>58.0</td>\n",
       "      <td>111.0</td>\n",
       "      <td>126.0</td>\n",
       "      <td>141.0</td>\n",
       "      <td>148.0</td>\n",
       "      <td>172.0</td>\n",
       "    </tr>\n",
       "    <tr>\n",
       "      <th>2020-04-06</th>\n",
       "      <td>20</td>\n",
       "      <td>38.0</td>\n",
       "      <td>91.0</td>\n",
       "      <td>106.0</td>\n",
       "      <td>121.0</td>\n",
       "      <td>128.0</td>\n",
       "      <td>152.0</td>\n",
       "      <td>167.0</td>\n",
       "    </tr>\n",
       "    <tr>\n",
       "      <th>2020-04-05</th>\n",
       "      <td>38</td>\n",
       "      <td>53.0</td>\n",
       "      <td>68.0</td>\n",
       "      <td>83.0</td>\n",
       "      <td>90.0</td>\n",
       "      <td>114.0</td>\n",
       "      <td>129.0</td>\n",
       "      <td>168.0</td>\n",
       "    </tr>\n",
       "    <tr>\n",
       "      <th>2020-04-04</th>\n",
       "      <td>53</td>\n",
       "      <td>15.0</td>\n",
       "      <td>30.0</td>\n",
       "      <td>37.0</td>\n",
       "      <td>61.0</td>\n",
       "      <td>76.0</td>\n",
       "      <td>115.0</td>\n",
       "      <td>147.0</td>\n",
       "    </tr>\n",
       "    <tr>\n",
       "      <th>2020-04-03</th>\n",
       "      <td>15</td>\n",
       "      <td>15.0</td>\n",
       "      <td>22.0</td>\n",
       "      <td>46.0</td>\n",
       "      <td>61.0</td>\n",
       "      <td>100.0</td>\n",
       "      <td>132.0</td>\n",
       "      <td>154.0</td>\n",
       "    </tr>\n",
       "    <tr>\n",
       "      <th>...</th>\n",
       "      <td>...</td>\n",
       "      <td>...</td>\n",
       "      <td>...</td>\n",
       "      <td>...</td>\n",
       "      <td>...</td>\n",
       "      <td>...</td>\n",
       "      <td>...</td>\n",
       "      <td>...</td>\n",
       "    </tr>\n",
       "    <tr>\n",
       "      <th>2020-01-13</th>\n",
       "      <td>25</td>\n",
       "      <td>31.0</td>\n",
       "      <td>47.0</td>\n",
       "      <td>86.0</td>\n",
       "      <td>115.0</td>\n",
       "      <td>117.0</td>\n",
       "      <td>150.0</td>\n",
       "      <td>158.0</td>\n",
       "    </tr>\n",
       "    <tr>\n",
       "      <th>2020-01-12</th>\n",
       "      <td>31</td>\n",
       "      <td>16.0</td>\n",
       "      <td>55.0</td>\n",
       "      <td>84.0</td>\n",
       "      <td>86.0</td>\n",
       "      <td>119.0</td>\n",
       "      <td>127.0</td>\n",
       "      <td>130.0</td>\n",
       "    </tr>\n",
       "    <tr>\n",
       "      <th>2020-01-11</th>\n",
       "      <td>16</td>\n",
       "      <td>39.0</td>\n",
       "      <td>68.0</td>\n",
       "      <td>70.0</td>\n",
       "      <td>103.0</td>\n",
       "      <td>111.0</td>\n",
       "      <td>114.0</td>\n",
       "      <td>121.0</td>\n",
       "    </tr>\n",
       "    <tr>\n",
       "      <th>2020-01-10</th>\n",
       "      <td>39</td>\n",
       "      <td>29.0</td>\n",
       "      <td>31.0</td>\n",
       "      <td>64.0</td>\n",
       "      <td>72.0</td>\n",
       "      <td>75.0</td>\n",
       "      <td>82.0</td>\n",
       "      <td>114.0</td>\n",
       "    </tr>\n",
       "    <tr>\n",
       "      <th>2020-01-09</th>\n",
       "      <td>29</td>\n",
       "      <td>2.0</td>\n",
       "      <td>35.0</td>\n",
       "      <td>43.0</td>\n",
       "      <td>46.0</td>\n",
       "      <td>53.0</td>\n",
       "      <td>85.0</td>\n",
       "      <td>102.0</td>\n",
       "    </tr>\n",
       "  </tbody>\n",
       "</table>\n",
       "<p>90 rows × 8 columns</p>\n",
       "</div>"
      ],
      "text/plain": [
       "            ID  Sum_1  Sum_2  Sum_3  Sum_4  Sum_5  Sum_6  Sum_7\n",
       "2020-04-07  19   20.0   58.0  111.0  126.0  141.0  148.0  172.0\n",
       "2020-04-06  20   38.0   91.0  106.0  121.0  128.0  152.0  167.0\n",
       "2020-04-05  38   53.0   68.0   83.0   90.0  114.0  129.0  168.0\n",
       "2020-04-04  53   15.0   30.0   37.0   61.0   76.0  115.0  147.0\n",
       "2020-04-03  15   15.0   22.0   46.0   61.0  100.0  132.0  154.0\n",
       "...         ..    ...    ...    ...    ...    ...    ...    ...\n",
       "2020-01-13  25   31.0   47.0   86.0  115.0  117.0  150.0  158.0\n",
       "2020-01-12  31   16.0   55.0   84.0   86.0  119.0  127.0  130.0\n",
       "2020-01-11  16   39.0   68.0   70.0  103.0  111.0  114.0  121.0\n",
       "2020-01-10  39   29.0   31.0   64.0   72.0   75.0   82.0  114.0\n",
       "2020-01-09  29    2.0   35.0   43.0   46.0   53.0   85.0  102.0\n",
       "\n",
       "[90 rows x 8 columns]"
      ]
     },
     "execution_count": 109,
     "metadata": {},
     "output_type": "execute_result"
    }
   ],
   "source": [
    "to_test = by_day[start_date:end_of_data]\n",
    "to_test"
   ]
  },
  {
   "cell_type": "markdown",
   "metadata": {},
   "source": [
    "## Make model"
   ]
  },
  {
   "cell_type": "code",
   "execution_count": 110,
   "metadata": {},
   "outputs": [],
   "source": [
    "days_left = 7\n",
    "tweets_so_far = 0\n",
    "lower = 139\n",
    "\n",
    "predict = poisson.basic_poisson(by_day[start_date:end_of_data][\"ID\"], days_left, tweets_so_far, lower)"
   ]
  },
  {
   "cell_type": "code",
   "execution_count": 111,
   "metadata": {},
   "outputs": [
    {
     "data": {
      "text/plain": [
       "{'139': 0.0,\n",
       " '140-149': 0.0,\n",
       " '150-159': 0.0,\n",
       " '160-169': 0.0,\n",
       " '170-179': 0.1,\n",
       " '180-189': 0.8,\n",
       " '190-199': 3.8,\n",
       " '200-209': 11.0,\n",
       " '210': 81.6}"
      ]
     },
     "execution_count": 111,
     "metadata": {},
     "output_type": "execute_result"
    }
   ],
   "source": [
    "predict"
   ]
  },
  {
   "cell_type": "code",
   "execution_count": 112,
   "metadata": {},
   "outputs": [],
   "source": [
    "prediction_date = start_date + datetime.timedelta(days=8)"
   ]
  },
  {
   "cell_type": "code",
   "execution_count": 113,
   "metadata": {},
   "outputs": [
    {
     "data": {
      "text/plain": [
       "datetime.date(2020, 4, 15)"
      ]
     },
     "execution_count": 113,
     "metadata": {},
     "output_type": "execute_result"
    }
   ],
   "source": [
    "prediction_date.date()"
   ]
  },
  {
   "cell_type": "code",
   "execution_count": 114,
   "metadata": {},
   "outputs": [
    {
     "data": {
      "text/plain": [
       "{'139': 0,\n",
       " '140-149': 0,\n",
       " '150-159': 0,\n",
       " '160-169': 0,\n",
       " '170-179': 0,\n",
       " '180-189': 0,\n",
       " '190-199': 0,\n",
       " '200-209': 1,\n",
       " '210': 0}"
      ]
     },
     "execution_count": 114,
     "metadata": {},
     "output_type": "execute_result"
    }
   ],
   "source": [
    "lower = 139\n",
    "\n",
    "def which_bucket(lower, value, buckets=9, gap=10):\n",
    "    \n",
    "    outcomes = dict()\n",
    "    \n",
    "    for i in range(buckets):\n",
    "        if i == 0:\n",
    "            if value < lower:\n",
    "                outcomes[str(lower)] = 1\n",
    "            else:\n",
    "                outcomes[str(lower)] = 0\n",
    "        elif i == buckets - 1:\n",
    "            lower_bound = (lower + i * gap) - (gap - 1)\n",
    "            if value > lower_bound:\n",
    "                outcomes[str(lower_bound)] = 1\n",
    "            else:\n",
    "                outcomes[str(lower_bound)] = 0\n",
    "                \n",
    "        else:\n",
    "            lower_bound = (lower + i * gap) - (gap - 1)\n",
    "            upper_bound = (lower + i * gap)\n",
    "                \n",
    "            label = f\"{lower_bound}-{upper_bound}\"\n",
    "                \n",
    "            if value >= lower_bound and value <= upper_bound:\n",
    "                outcomes[label] = 1\n",
    "            else:\n",
    "                outcomes[label] = 0\n",
    "                    \n",
    "                \n",
    "                \n",
    "    return outcomes\n",
    "                \n",
    "which_bucket(lower, 201)"
   ]
  },
  {
   "cell_type": "code",
   "execution_count": 115,
   "metadata": {},
   "outputs": [],
   "source": [
    "outcome = by_day.at[prediction_date.strftime(\"%Y-%-m-%d\"), \"Sum_7\"][0]"
   ]
  },
  {
   "cell_type": "code",
   "execution_count": 116,
   "metadata": {},
   "outputs": [],
   "source": [
    "outcome_mask = which_bucket(lower, outcome)"
   ]
  },
  {
   "cell_type": "code",
   "execution_count": 117,
   "metadata": {},
   "outputs": [
    {
     "data": {
      "text/plain": [
       "0.10942162777777778"
      ]
     },
     "execution_count": 117,
     "metadata": {},
     "output_type": "execute_result"
    }
   ],
   "source": [
    "def brier_score(predictions, ground_truth):\n",
    "    \n",
    "    # triple check the buckets have the same keys\n",
    "    if not predictions.keys() == ground_truth.keys():\n",
    "        print(\"Dict keys are not the same\")\n",
    "        return False\n",
    "    sum = 0\n",
    "    for i, key in enumerate(predictions):\n",
    "        x = predictions[key] * .001 - ground_truth[key]\n",
    "        sum += x ** 2\n",
    "    \n",
    "    return sum / (i + 1)\n",
    "    \n",
    "brier_score(predict, outcome_mask)"
   ]
  },
  {
   "cell_type": "markdown",
   "metadata": {},
   "source": [
    "## And for 6 days out"
   ]
  },
  {
   "cell_type": "code",
   "execution_count": 121,
   "metadata": {},
   "outputs": [],
   "source": [
    "# get the tweets\n",
    "tweets_date = start_date + datetime.timedelta(days=1)\n",
    "tweets_so_far = by_day.at[tweets_date.strftime(\"%Y-%-m-%d\"), \"Sum_1\"][0]\n",
    "days_left = 6\n",
    "\n",
    "predict = poisson.basic_poisson(by_day[start_date:end_of_data][\"ID\"], days_left, tweets_so_far, lower)"
   ]
  },
  {
   "cell_type": "code",
   "execution_count": 123,
   "metadata": {},
   "outputs": [
    {
     "data": {
      "text/plain": [
       "0.1062408477777778"
      ]
     },
     "execution_count": 123,
     "metadata": {},
     "output_type": "execute_result"
    }
   ],
   "source": [
    "brier_score(predict, outcome_mask)"
   ]
  },
  {
   "cell_type": "markdown",
   "metadata": {},
   "source": [
    "## Okay let's come up with a week"
   ]
  },
  {
   "cell_type": "code",
   "execution_count": 128,
   "metadata": {},
   "outputs": [
    {
     "name": "stdout",
     "output_type": "stream",
     "text": [
      "19.0\n",
      "{'139': 0.0, '140-149': 0.0, '150-159': 0.0, '160-169': 0.1, '170-179': 0.8999999999999999, '180-189': 4.6, '190-199': 13.700000000000001, '200-209': 23.599999999999998, '210': 51.0}\n",
      "41.0\n",
      "{'139': 0.0, '140-149': 0.0, '150-159': 0.0, '160-169': 0.0, '170-179': 0.0, '180-189': 0.1, '190-199': 0.6, '200-209': 3.5000000000000004, '210': 95.0}\n",
      "49.0\n",
      "{'139': 0.0, '140-149': 0.0, '150-159': 0.0, '160-169': 0.0, '170-179': 0.0, '180-189': 0.0, '190-199': 0.1, '200-209': 0.8999999999999999, '210': 98.8}\n",
      "129.0\n",
      "{'139': 0.0, '140-149': 0.0, '150-159': 0.0, '160-169': 0.0, '170-179': 0.0, '180-189': 0.0, '190-199': 0.0, '200-209': 0.0, '210': 100.0}\n",
      "148.0\n",
      "{'139': 0.0, '140-149': 0.0, '150-159': 0.0, '160-169': 0.0, '170-179': 0.0, '180-189': 0.0, '190-199': 0.0, '200-209': 0.0, '210': 100.0}\n",
      "188.0\n",
      "{'139': 0.0, '140-149': 0.0, '150-159': 0.0, '160-169': 0.0, '170-179': 0.0, '180-189': 0.0, '190-199': 0.0, '200-209': 0.0, '210': 100.0}\n"
     ]
    },
    {
     "data": {
      "text/plain": [
       "[0.11222222222222222,\n",
       " 0.1062408477777778,\n",
       " 0.11133751333333335,\n",
       " 0.11199580666666667,\n",
       " 0.11222222222222222,\n",
       " 0.11222222222222222,\n",
       " 0.11222222222222222]"
      ]
     },
     "execution_count": 128,
     "metadata": {},
     "output_type": "execute_result"
    }
   ],
   "source": [
    "\n",
    "# we already have the outcome, but it would be computed here\n",
    "scores = list()\n",
    "\n",
    "for i in range(7):\n",
    "    if i == 0:\n",
    "        # a week away\n",
    "        predict = poisson.basic_poisson(by_day[start_date:end_of_data][\"ID\"], 0, 0, lower)\n",
    "        \n",
    "        scores.append(brier_score(predict, outcome_mask))\n",
    "    else:\n",
    "        tweets_date = start_date + datetime.timedelta(days=i)\n",
    "        tweets_so_far = by_day.at[tweets_date.strftime(\"%Y-%-m-%d\"), f\"Sum_{i}\"][0]\n",
    "        print(tweets_so_far)\n",
    "        \n",
    "        predict = poisson.basic_poisson(by_day[start_date:end_of_data][\"ID\"],\n",
    "                                        days_left,\n",
    "                                        tweets_so_far,\n",
    "                                        lower)\n",
    "        print(predict)\n",
    "        scores.append(brier_score(predict, outcome_mask))\n",
    "                                  \n",
    "        \n",
    "scores"
   ]
  },
  {
   "cell_type": "markdown",
   "metadata": {},
   "source": [
    "## Okay those results look suss, see how it gives 210 a 100% "
   ]
  }
 ],
 "metadata": {
  "kernelspec": {
   "display_name": "Python (trump_tweets)",
   "language": "python",
   "name": "trump_tweets"
  },
  "language_info": {
   "codemirror_mode": {
    "name": "ipython",
    "version": 3
   },
   "file_extension": ".py",
   "mimetype": "text/x-python",
   "name": "python",
   "nbconvert_exporter": "python",
   "pygments_lexer": "ipython3",
   "version": "3.6.9"
  }
 },
 "nbformat": 4,
 "nbformat_minor": 4
}
